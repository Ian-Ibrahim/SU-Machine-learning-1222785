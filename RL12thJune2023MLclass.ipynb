{
  "nbformat": 4,
  "nbformat_minor": 0,
  "metadata": {
    "colab": {
      "provenance": [],
      "authorship_tag": "ABX9TyMBuM4xpPxChZ4+9uY2oEo1",
      "include_colab_link": true
    },
    "kernelspec": {
      "name": "python3",
      "display_name": "Python 3"
    },
    "language_info": {
      "name": "python"
    }
  },
  "cells": [
    {
      "cell_type": "markdown",
      "metadata": {
        "id": "view-in-github",
        "colab_type": "text"
      },
      "source": [
        "<a href=\"https://colab.research.google.com/github/Ian-Ibrahim/SU-Machine-learning-1222785/blob/main/RL12thJune2023MLclass.ipynb\" target=\"_parent\"><img src=\"https://colab.research.google.com/assets/colab-badge.svg\" alt=\"Open In Colab\"/></a>"
      ]
    },
    {
      "cell_type": "code",
      "execution_count": null,
      "metadata": {
        "id": "EPuyS_DJG1zG"
      },
      "outputs": [],
      "source": [
        "import numpy as np\n",
        "import matplotlib.pyplot as plt\n",
        "\n",
        "import warnings\n",
        "warnings.filterwarnings('ignore')"
      ]
    },
    {
      "cell_type": "code",
      "source": [
        "def print_map(array):\n",
        "    plt.imshow(array, cmap='hot', vmin=np.min(array), vmax=np.max(array))\n",
        "    plt.show()"
      ],
      "metadata": {
        "id": "8mxQ2kuFG722"
      },
      "execution_count": null,
      "outputs": []
    },
    {
      "cell_type": "code",
      "source": [
        "e_rows = 11\n",
        "e_cols = 11\n",
        "\n",
        "q_values = np.zeros((e_rows, e_cols, 4))"
      ],
      "metadata": {
        "id": "cT-f5TWoG8_n"
      },
      "execution_count": null,
      "outputs": []
    },
    {
      "cell_type": "code",
      "source": [
        "actions = ['up', 'right', 'down', 'left']"
      ],
      "metadata": {
        "id": "FMoJbAFjHAjK"
      },
      "execution_count": null,
      "outputs": []
    },
    {
      "cell_type": "markdown",
      "source": [
        "Environment setup"
      ],
      "metadata": {
        "id": "-bRfQZ45K8xw"
      }
    },
    {
      "cell_type": "code",
      "source": [
        "rewards = np.full((e_rows, e_cols), -100.)\n",
        "rewards[0,5]=100\n",
        "# this defines the home location i.e if a robot the place it will go back to AKA the goal state\n",
        "aisles = {}\n",
        "\n",
        "aisles[1] = [i for i in range(1, 10)]\n",
        "aisles[2] = [1, 7, 9]\n",
        "aisles[3] = [i for i in range(1, 8)]\n",
        "aisles[3].append(9)\n",
        "aisles[4] = [3, 7]\n",
        "aisles[5] = [i for i in range(11)]\n",
        "aisles[6] = [5]\n",
        "aisles[7] = [i for i in range(1, 10)]\n",
        "aisles[8] = [3, 7]\n",
        "aisles[9] = [i for i in range(11)]\n",
        "\n",
        "for row_index in range(1, 10):\n",
        "  for col_index in aisles[row_index]:\n",
        "    rewards[row_index,col_index]=-1\n",
        "\n",
        "for row in rewards:\n",
        "  print(row)"
      ],
      "metadata": {
        "id": "YYL1OfvEHA2d",
        "colab": {
          "base_uri": "https://localhost:8080/"
        },
        "outputId": "627c4362-5036-4bd4-fede-258f0a77f894"
      },
      "execution_count": null,
      "outputs": [
        {
          "output_type": "stream",
          "name": "stdout",
          "text": [
            "[-100. -100. -100. -100. -100.  100. -100. -100. -100. -100. -100.]\n",
            "[-100.   -1.   -1.   -1.   -1.   -1.   -1.   -1.   -1.   -1. -100.]\n",
            "[-100.   -1. -100. -100. -100. -100. -100.   -1. -100.   -1. -100.]\n",
            "[-100.   -1.   -1.   -1.   -1.   -1.   -1.   -1. -100.   -1. -100.]\n",
            "[-100. -100. -100.   -1. -100. -100. -100.   -1. -100. -100. -100.]\n",
            "[-1. -1. -1. -1. -1. -1. -1. -1. -1. -1. -1.]\n",
            "[-100. -100. -100. -100. -100.   -1. -100. -100. -100. -100. -100.]\n",
            "[-100.   -1.   -1.   -1.   -1.   -1.   -1.   -1.   -1.   -1. -100.]\n",
            "[-100. -100. -100.   -1. -100. -100. -100.   -1. -100. -100. -100.]\n",
            "[-1. -1. -1. -1. -1. -1. -1. -1. -1. -1. -1.]\n",
            "[-100. -100. -100. -100. -100. -100. -100. -100. -100. -100. -100.]\n"
          ]
        }
      ]
    },
    {
      "cell_type": "code",
      "source": [
        "# alt way to print the rows\n",
        "# the print map function that was defined earlier in previous cells\n",
        "print_map(rewards)"
      ],
      "metadata": {
        "id": "9vKafuImHO6h",
        "colab": {
          "base_uri": "https://localhost:8080/",
          "height": 430
        },
        "outputId": "7424f22f-6198-4c47-cecc-1223e35327d4"
      },
      "execution_count": null,
      "outputs": [
        {
          "output_type": "display_data",
          "data": {
            "text/plain": [
              "<Figure size 640x480 with 1 Axes>"
            ],
            "image/png": "[encoded data removed]"
          },
          "metadata": {}
        }
      ]
    },
    {
      "cell_type": "code",
      "source": [],
      "metadata": {
        "id": "pIgDftSgJSEA"
      },
      "execution_count": null,
      "outputs": []
    },
    {
      "cell_type": "markdown",
      "source": [
        "Training"
      ],
      "metadata": {
        "id": "41Hg7KoQK-1z"
      }
    },
    {
      "cell_type": "code",
      "source": [
        "# check if we are back at goal state\n",
        "def is_terminal_state(current_row_index,current_col_index):\n",
        "  if rewards[current_row_index,current_col_index]==-1.:\n",
        "    return False\n",
        "  else:\n",
        "    return True"
      ],
      "metadata": {
        "id": "G3VKKO_gLFl4"
      },
      "execution_count": null,
      "outputs": []
    },
    {
      "cell_type": "code",
      "source": [
        "# randomly pick a location\n",
        "def get_start_loc():\n",
        "  cur_row_index=np.random.randint(e_rows)\n",
        "  cur_col_index=np.random.randint(e_cols)\n",
        "  while is_terminal_state(cur_row_index,cur_col_index):\n",
        "    cur_row_index=np.random.randint(e_rows)\n",
        "    cur_col_index=np.random.randint(e_cols)\n",
        "  return cur_row_index,cur_col_index"
      ],
      "metadata": {
        "id": "lTS25jjfLIMP"
      },
      "execution_count": null,
      "outputs": []
    },
    {
      "cell_type": "code",
      "source": [
        "# wdj\n",
        "def get_next_loc(cur_row_index,cur_col_index,action_index):\n",
        "  new_row_index=cur_row_index\n",
        "  new_col_index=cur_col_index\n",
        "\n",
        "  if actions[action_index]=='up' and cur_row_index>0:\n",
        "    new_row_index-=1\n",
        "  elif actions[action_index]=='down' and cur_row_index<e_rows-1:\n",
        "    new_row_index+=1\n",
        "  elif actions[action_index]=='right' and cur_col_index<e_cols-1:\n",
        "    new_col_index+=1\n",
        "  elif actions[action_index]=='left' and cur_col_index>0:\n",
        "    new_col_index-=1\n",
        "\n",
        "  return new_row_index,new_col_index"
      ],
      "metadata": {
        "id": "YfjIh71zNIUY"
      },
      "execution_count": null,
      "outputs": []
    },
    {
      "cell_type": "code",
      "source": [
        "def get_next_act(cur_row_index,cur_col_index,epsilon):\n",
        "  if np.random.random()<epsilon:\n",
        "    return np.argmax(q_values[cur_row_index,cur_col_index])\n",
        "  else:\n",
        "    return np.random.randint(4)"
      ],
      "metadata": {
        "id": "HeT3vNMCRqQ2"
      },
      "execution_count": null,
      "outputs": []
    },
    {
      "cell_type": "code",
      "source": [
        "def get_shortest_path(start_row, start_col):\n",
        "  if is_terminal_state(start_row, start_col):\n",
        "    return []\n",
        "  else:\n",
        "    cur_row_index,cur_col_index=start_row, start_col\n",
        "    shortest_path =[]\n",
        "    shortest_path.append([cur_row_index,cur_col_index])\n",
        "    while not is_terminal_state(cur_row_index,cur_col_index):\n",
        "      action_index=get_next_act(cur_row_index,cur_col_index,1.)\n",
        "      cur_row_index,cur_col_index=get_next_loc(cur_row_index,cur_col_index,action_index)\n",
        "      shortest_path.append([cur_row_index,cur_col_index])\n",
        "\n",
        "    return shortest_path"
      ],
      "metadata": {
        "id": "n9QPBrkFPL31"
      },
      "execution_count": null,
      "outputs": []
    },
    {
      "cell_type": "code",
      "source": [
        "epsilon=0.9\n",
        "discountFactor=0.9\n",
        "learningRate=0.9\n",
        "\n",
        "\n",
        "\n",
        "for episode in range(1000):\n",
        "    row_index, col_index = get_start_loc()\n",
        "\n",
        "    while not is_terminal_state(row_index, col_index):\n",
        "        action_index = get_next_act(row_index, col_index, epsilon)\n",
        "\n",
        "        old_row_index, old_col_index = row_index, col_index\n",
        "        row_index, col_index = get_next_loc(row_index, col_index, action_index)\n",
        "\n",
        "        reward = rewards[row_index,col_index]\n",
        "        old_q_value=q_values[row_index,col_index,action_index]\n",
        "        td = reward+  (discountFactor * np.max(q_values[row_index, col_index])) - old_q_value\n",
        "        new_q_value=old_q_value+(learningRate*td)\n",
        "        q_values[old_row_index, old_col_index ,action_index]=new_q_value\n",
        "\n",
        "print('training complete')"
      ],
      "metadata": {
        "colab": {
          "base_uri": "https://localhost:8080/"
        },
        "id": "23K1EKukTA0z",
        "outputId": "9f257a7c-af5f-4889-c5ad-7896b7044ac9"
      },
      "execution_count": null,
      "outputs": [
        {
          "output_type": "stream",
          "name": "stdout",
          "text": [
            "training complete\n"
          ]
        }
      ]
    },
    {
      "cell_type": "code",
      "source": [
        "print(get_shortest_path(5,1))"
      ],
      "metadata": {
        "id": "kt61XkoMW9tf",
        "colab": {
          "base_uri": "https://localhost:8080/"
        },
        "outputId": "0a42e0c6-0d1d-4bdb-8b0d-599359ef065c"
      },
      "execution_count": null,
      "outputs": [
        {
          "output_type": "stream",
          "name": "stdout",
          "text": [
            "[[5, 1], [5, 2], [5, 3], [5, 4], [5, 5], [5, 6], [5, 7], [4, 7], [3, 7], [2, 7], [1, 7], [1, 6], [1, 5], [0, 5]]\n"
          ]
        }
      ]
    },
    {
      "cell_type": "code",
      "source": [
        "print(q_values)"
      ],
      "metadata": {
        "colab": {
          "base_uri": "https://localhost:8080/"
        },
        "id": "3Zn_B9FyFnOY",
        "outputId": "9dceb99a-6ffd-456a-c4f2-4a0ed9d6524c"
      },
      "execution_count": null,
      "outputs": [
        {
          "output_type": "stream",
          "name": "stdout",
          "text": [
            "[[[ 0.00000000e+00  0.00000000e+00  0.00000000e+00  0.00000000e+00]\n",
            "  [ 0.00000000e+00  0.00000000e+00  0.00000000e+00  0.00000000e+00]\n",
            "  [ 0.00000000e+00  0.00000000e+00  0.00000000e+00  0.00000000e+00]\n",
            "  [ 0.00000000e+00  0.00000000e+00  0.00000000e+00  0.00000000e+00]\n",
            "  [ 0.00000000e+00  0.00000000e+00  0.00000000e+00  0.00000000e+00]\n",
            "  [ 0.00000000e+00  0.00000000e+00  0.00000000e+00  0.00000000e+00]\n",
            "  [ 0.00000000e+00  0.00000000e+00  0.00000000e+00  0.00000000e+00]\n",
            "  [ 0.00000000e+00  0.00000000e+00  0.00000000e+00  0.00000000e+00]\n",
            "  [ 0.00000000e+00  0.00000000e+00  0.00000000e+00  0.00000000e+00]\n",
            "  [ 0.00000000e+00  0.00000000e+00  0.00000000e+00  0.00000000e+00]\n",
            "  [ 0.00000000e+00  0.00000000e+00  0.00000000e+00  0.00000000e+00]]\n",
            "\n",
            " [[ 0.00000000e+00  0.00000000e+00  0.00000000e+00  0.00000000e+00]\n",
            "  [-9.00000000e+01  5.70051512e+01  2.66894010e+01 -9.00000000e+01]\n",
            "  [-9.00000000e+01  6.36320342e+01 -9.00000000e+01 -1.07019000e+01]\n",
            "  [-9.00000000e+01  7.09143234e+01 -9.00000000e+01 -3.36258000e+00]\n",
            "  [-9.00000000e+01  7.89168388e+01 -9.00000000e+01  5.62042698e+01]\n",
            "  [ 9.00000000e+01  6.91683885e+01 -9.00000000e+01  6.86430664e+01]\n",
            "  [-9.00000000e+01  6.18830669e+01 -9.00000000e+01  7.88643066e+01]\n",
            "  [-9.00000000e+01  5.38119243e+01  4.12277803e+01  7.08665190e+01]\n",
            "  [-9.00000000e+01  3.20521858e+01 -9.00000000e+01  6.35885256e+01]\n",
            "  [-9.00000000e+01 -9.00000000e+01  3.00646081e+01  5.69655583e+01]\n",
            "  [ 0.00000000e+00  0.00000000e+00  0.00000000e+00  0.00000000e+00]]\n",
            "\n",
            " [[ 0.00000000e+00  0.00000000e+00  0.00000000e+00  0.00000000e+00]\n",
            "  [ 3.62741721e+01 -9.00000000e+01 -1.79262900e+01 -9.00000000e+01]\n",
            "  [ 0.00000000e+00  0.00000000e+00  0.00000000e+00  0.00000000e+00]\n",
            "  [ 0.00000000e+00  0.00000000e+00  0.00000000e+00  0.00000000e+00]\n",
            "  [ 0.00000000e+00  0.00000000e+00  0.00000000e+00  0.00000000e+00]\n",
            "  [ 0.00000000e+00  0.00000000e+00  0.00000000e+00  0.00000000e+00]\n",
            "  [ 0.00000000e+00  0.00000000e+00  0.00000000e+00  0.00000000e+00]\n",
            "  [ 4.75018804e+01 -9.00000000e+01  3.65126203e+01 -9.00000000e+01]\n",
            "  [ 0.00000000e+00  0.00000000e+00  0.00000000e+00  0.00000000e+00]\n",
            "  [ 3.62421022e+01 -9.00000000e+01  1.60850535e+01 -9.00000000e+01]\n",
            "  [ 0.00000000e+00  0.00000000e+00  0.00000000e+00  0.00000000e+00]]\n",
            "\n",
            " [[ 0.00000000e+00  0.00000000e+00  0.00000000e+00  0.00000000e+00]\n",
            "  [-1.12364434e+01  1.28296916e+00 -9.00000000e+01 -9.00000000e+01]\n",
            "  [-9.00000000e+01  2.39886721e+00 -9.00000000e+01 -1.07019000e+01]\n",
            "  [-9.00000000e+01 -6.35575252e-02  4.08052217e+00 -1.20251380e+00]\n",
            "  [-9.00000000e+01 -1.01122135e+01 -9.00000000e+01  2.28497158e+00]\n",
            "  [-9.00000000e+01 -1.07007167e+01 -9.00000000e+01  1.17932414e+00]\n",
            "  [-9.00000000e+01  2.43846316e+01 -9.00000000e+01 -9.46840918e-01]\n",
            "  [ 4.23267112e+01 -9.00000000e+01  3.12798861e+01  1.87568675e+01]\n",
            "  [ 0.00000000e+00  0.00000000e+00  0.00000000e+00  0.00000000e+00]\n",
            "  [ 3.20803130e+01 -9.00000000e+01 -9.00000000e+01 -9.00000000e+01]\n",
            "  [ 0.00000000e+00  0.00000000e+00  0.00000000e+00  0.00000000e+00]]\n",
            "\n",
            " [[ 0.00000000e+00  0.00000000e+00  0.00000000e+00  0.00000000e+00]\n",
            "  [ 0.00000000e+00  0.00000000e+00  0.00000000e+00  0.00000000e+00]\n",
            "  [ 0.00000000e+00  0.00000000e+00  0.00000000e+00  0.00000000e+00]\n",
            "  [-6.59868216e+00 -9.00000000e+01  5.47310129e+00 -9.00000000e+01]\n",
            "  [ 0.00000000e+00  0.00000000e+00  0.00000000e+00  0.00000000e+00]\n",
            "  [ 0.00000000e+00  0.00000000e+00  0.00000000e+00  0.00000000e+00]\n",
            "  [ 0.00000000e+00  0.00000000e+00  0.00000000e+00  0.00000000e+00]\n",
            "  [ 3.76173072e+01 -9.00000000e+01  1.70987171e+01 -9.00000000e+01]\n",
            "  [ 0.00000000e+00  0.00000000e+00  0.00000000e+00  0.00000000e+00]\n",
            "  [ 0.00000000e+00  0.00000000e+00  0.00000000e+00  0.00000000e+00]\n",
            "  [ 0.00000000e+00  0.00000000e+00  0.00000000e+00  0.00000000e+00]]\n",
            "\n",
            " [[-9.00000000e+01  1.18378375e+01 -9.00000000e+01 -9.40947027e+00]\n",
            "  [-9.00000000e+01  1.39976237e+01 -9.00000000e+01 -9.40947027e+00]\n",
            "  [-9.00000000e+01  1.63710150e+01 -9.00000000e+01 -9.37653181e+00]\n",
            "  [ 2.87334383e+00  1.89791402e+01 -9.00000000e+01  1.14180479e+01]\n",
            "  [-9.00000000e+01  2.18452090e+01 -9.00000000e+01  1.47896305e+01]\n",
            "  [-9.00000000e+01  2.49947351e+01  7.17970802e+00  1.82735798e+01]\n",
            "  [-9.00000000e+01  2.84557529e+01 -9.00000000e+01  2.11711348e+01]\n",
            "  [ 3.33317495e+01  2.35703576e+01 -9.00000000e+01  2.42662703e+01]\n",
            "  [-9.00000000e+01  1.37429490e+01 -9.00000000e+01  2.85253405e+01]\n",
            "  [-9.00000000e+01 -9.21635820e+00 -9.00000000e+01  2.50580598e+01]\n",
            "  [-9.00000000e+01 -9.21635820e+00 -9.00000000e+01  2.19028345e+01]]\n",
            "\n",
            " [[ 0.00000000e+00  0.00000000e+00  0.00000000e+00  0.00000000e+00]\n",
            "  [ 0.00000000e+00  0.00000000e+00  0.00000000e+00  0.00000000e+00]\n",
            "  [ 0.00000000e+00  0.00000000e+00  0.00000000e+00  0.00000000e+00]\n",
            "  [ 0.00000000e+00  0.00000000e+00  0.00000000e+00  0.00000000e+00]\n",
            "  [ 0.00000000e+00  0.00000000e+00  0.00000000e+00  0.00000000e+00]\n",
            "  [ 1.03457354e+01 -9.00000000e+01 -3.00316039e+00 -9.00000000e+01]\n",
            "  [ 0.00000000e+00  0.00000000e+00  0.00000000e+00  0.00000000e+00]\n",
            "  [ 0.00000000e+00  0.00000000e+00  0.00000000e+00  0.00000000e+00]\n",
            "  [ 0.00000000e+00  0.00000000e+00  0.00000000e+00  0.00000000e+00]\n",
            "  [ 0.00000000e+00  0.00000000e+00  0.00000000e+00  0.00000000e+00]\n",
            "  [ 0.00000000e+00  0.00000000e+00  0.00000000e+00  0.00000000e+00]]\n",
            "\n",
            " [[ 0.00000000e+00  0.00000000e+00  0.00000000e+00  0.00000000e+00]\n",
            "  [-9.00000000e+01  2.39109302e+00 -9.00000000e+01 -9.00000000e+01]\n",
            "  [-9.00000000e+01  3.61658574e+00 -9.00000000e+01 -7.99879560e+00]\n",
            "  [-9.00000000e+01  4.96328103e+00 -1.60796579e+01 -1.00343155e+01]\n",
            "  [-9.00000000e+01  6.44316597e+00 -9.00000000e+01  2.07385912e+00]\n",
            "  [ 8.51461680e+00  4.46326361e+00 -9.00000000e+01  4.47929156e+00]\n",
            "  [-9.00000000e+01  1.43000910e+00 -9.00000000e+01  6.44476876e+00]\n",
            "  [-9.00000000e+01  1.18977120e+00 -7.15784309e+00  4.96473958e+00]\n",
            "  [-9.00000000e+01 -8.40738339e+00 -9.00000000e+01  3.61791301e+00]\n",
            "  [-9.00000000e+01 -9.00000000e+01 -9.00000000e+01  2.39230084e+00]\n",
            "  [ 0.00000000e+00  0.00000000e+00  0.00000000e+00  0.00000000e+00]]\n",
            "\n",
            " [[ 0.00000000e+00  0.00000000e+00  0.00000000e+00  0.00000000e+00]\n",
            "  [ 0.00000000e+00  0.00000000e+00  0.00000000e+00  0.00000000e+00]\n",
            "  [ 0.00000000e+00  0.00000000e+00  0.00000000e+00  0.00000000e+00]\n",
            "  [-1.79977662e+01 -9.00000000e+01 -1.60159737e+01 -9.00000000e+01]\n",
            "  [ 0.00000000e+00  0.00000000e+00  0.00000000e+00  0.00000000e+00]\n",
            "  [ 0.00000000e+00  0.00000000e+00  0.00000000e+00  0.00000000e+00]\n",
            "  [ 0.00000000e+00  0.00000000e+00  0.00000000e+00  0.00000000e+00]\n",
            "  [-5.87856094e+00 -9.00000000e+01 -1.49620873e+01 -9.00000000e+01]\n",
            "  [ 0.00000000e+00  0.00000000e+00  0.00000000e+00  0.00000000e+00]\n",
            "  [ 0.00000000e+00  0.00000000e+00  0.00000000e+00  0.00000000e+00]\n",
            "  [ 0.00000000e+00  0.00000000e+00  0.00000000e+00  0.00000000e+00]]\n",
            "\n",
            " [[-9.00000000e+01 -8.15419172e+00 -9.00000000e+01 -9.99161188e+00]\n",
            "  [-9.00000000e+01 -7.97027163e+00 -9.00000000e+01 -9.99236295e+00]\n",
            "  [-9.00000000e+01 -7.76952926e+00 -9.00000000e+01 -8.35631755e+00]\n",
            "  [-1.72672524e+01 -7.54893326e+00 -9.00000000e+01 -9.99187846e+00]\n",
            "  [-9.00000000e+01 -7.30652006e+00 -9.00000000e+01 -8.01516151e+00]\n",
            "  [-9.00000000e+01 -7.04013194e+00 -9.00000000e+01 -8.07884967e+00]\n",
            "  [-9.00000000e+01 -6.74739773e+00 -9.00000000e+01 -7.70933553e+00]\n",
            "  [-6.24949046e+00 -7.85310461e+00 -9.00000000e+01 -9.98864863e+00]\n",
            "  [-9.00000000e+01 -7.76069580e+00 -9.00000000e+01 -6.96095213e+00]\n",
            "  [-9.00000000e+01 -9.99084601e+00 -9.00000000e+01 -7.23446644e+00]\n",
            "  [-9.00000000e+01 -9.99166987e+00 -9.00000000e+01 -7.48336446e+00]]\n",
            "\n",
            " [[ 0.00000000e+00  0.00000000e+00  0.00000000e+00  0.00000000e+00]\n",
            "  [ 0.00000000e+00  0.00000000e+00  0.00000000e+00  0.00000000e+00]\n",
            "  [ 0.00000000e+00  0.00000000e+00  0.00000000e+00  0.00000000e+00]\n",
            "  [ 0.00000000e+00  0.00000000e+00  0.00000000e+00  0.00000000e+00]\n",
            "  [ 0.00000000e+00  0.00000000e+00  0.00000000e+00  0.00000000e+00]\n",
            "  [ 0.00000000e+00  0.00000000e+00  0.00000000e+00  0.00000000e+00]\n",
            "  [ 0.00000000e+00  0.00000000e+00  0.00000000e+00  0.00000000e+00]\n",
            "  [ 0.00000000e+00  0.00000000e+00  0.00000000e+00  0.00000000e+00]\n",
            "  [ 0.00000000e+00  0.00000000e+00  0.00000000e+00  0.00000000e+00]\n",
            "  [ 0.00000000e+00  0.00000000e+00  0.00000000e+00  0.00000000e+00]\n",
            "  [ 0.00000000e+00  0.00000000e+00  0.00000000e+00  0.00000000e+00]]]\n"
          ]
        }
      ]
    },
    {
      "cell_type": "code",
      "source": [],
      "metadata": {
        "id": "1l2wusJqFpvx"
      },
      "execution_count": null,
      "outputs": []
    }
  ]
}