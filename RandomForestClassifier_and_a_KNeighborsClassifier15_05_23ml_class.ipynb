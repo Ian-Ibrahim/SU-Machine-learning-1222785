{
  "nbformat": 4,
  "nbformat_minor": 0,
  "metadata": {
    "colab": {
      "provenance": [],
      "authorship_tag": "ABX9TyMR6Oci247scwg/XcDOiEIE",
      "include_colab_link": true
    },
    "kernelspec": {
      "name": "python3",
      "display_name": "Python 3"
    },
    "language_info": {
      "name": "python"
    }
  },
  "cells": [
    {
      "cell_type": "markdown",
      "metadata": {
        "id": "view-in-github",
        "colab_type": "text"
      },
      "source": [
        "<a href=\"https://colab.research.google.com/github/Ian-Ibrahim/SU-Machine-learning-1222785/blob/main/RandomForestClassifier_and_a_KNeighborsClassifier15_05_23ml_class.ipynb\" target=\"_parent\"><img src=\"https://colab.research.google.com/assets/colab-badge.svg\" alt=\"Open In Colab\"/></a>"
      ]
    },
    {
      "cell_type": "code",
      "execution_count": null,
      "metadata": {
        "id": "43xfwlAC_YbU"
      },
      "outputs": [],
      "source": [
        "import numpy as np\n",
        "from sklearn.ensemble import RandomForestClassifier\n",
        "from sklearn.model_selection import GridSearchCV, RandomizedSearchCV\n",
        "from sklearn.metrics import classification_report, make_scorer, accuracy_score\n",
        "\n",
        "from sklearn.datasets import load_iris"
      ]
    },
    {
      "cell_type": "code",
      "source": [
        "data = load_iris()\n",
        "X, y = data.data, data.target\n",
        "\n",
        "rf_clf = RandomForestClassifier(random_state=42)"
      ],
      "metadata": {
        "id": "0Kcg3_AL_aRE"
      },
      "execution_count": null,
      "outputs": []
    },
    {
      "cell_type": "markdown",
      "source": [
        "manual"
      ],
      "metadata": {
        "id": "m_MVapQz_ft4"
      }
    },
    {
      "cell_type": "code",
      "source": [
        "mhp = {\n",
        "    'n_estimators': 10,\n",
        "    'max_depth': 3,\n",
        "    'min_samples_split': 2\n",
        "}\n",
        "\n",
        "rf_manual = RandomForestClassifier(**mhp , random_state=42)\n",
        "\n",
        "rf_manual.fit(X, y)\n",
        "pred_manual = rf_manual.predict(X)\n",
        "print('Manual HP Results')\n",
        "print(classification_report(y, pred_manual))"
      ],
      "metadata": {
        "colab": {
          "base_uri": "https://localhost:8080/"
        },
        "id": "yTUS-8_Z_i3K",
        "outputId": "20d9ad22-7b4d-426e-cb03-b9697772d592"
      },
      "execution_count": null,
      "outputs": [
        {
          "output_type": "stream",
          "name": "stdout",
          "text": [
            "Manual HP Results\n",
            "              precision    recall  f1-score   support\n",
            "\n",
            "           0       1.00      1.00      1.00        50\n",
            "           1       0.94      0.96      0.95        50\n",
            "           2       0.96      0.94      0.95        50\n",
            "\n",
            "    accuracy                           0.97       150\n",
            "   macro avg       0.97      0.97      0.97       150\n",
            "weighted avg       0.97      0.97      0.97       150\n",
            "\n"
          ]
        }
      ]
    },
    {
      "cell_type": "code",
      "source": [
        "#random\n",
        "rhp = {\n",
        "    'n_estimators': np.arange(0, 151, 50),\n",
        "    'max_depth': [2, 7, 9, None],\n",
        "    'min_samples_split': np.arange(2, 7)\n",
        "}\n",
        "\n",
        "random_search_space = RandomizedSearchCV(rf_clf, param_distributions=rhp,\n",
        "                                         n_iter=10,\n",
        "                                         cv=5,\n",
        "                                         scoring = make_scorer(accuracy_score),\n",
        "                                         random_state=42\n",
        "                                         )\n",
        "\n",
        "\n",
        "random_search_space.fit(X, y)\n",
        "random_best_hp = random_search_space.best_params_\n",
        "\n",
        "rf_random = RandomForestClassifier(**random_best_hp, random_state=42)\n",
        "rf_random.fit(X, y)\n",
        "\n",
        "r_pred = rf_random.predict(X)\n",
        "print(classification_report(y, r_pred))"
      ],
      "metadata": {
        "colab": {
          "base_uri": "https://localhost:8080/"
        },
        "id": "Qun9OzINDb5K",
        "outputId": "de2d50df-3c04-476d-8f64-645ac9439c6f"
      },
      "execution_count": null,
      "outputs": [
        {
          "output_type": "stream",
          "name": "stderr",
          "text": [
            "/usr/local/lib/python3.10/dist-packages/sklearn/model_selection/_validation.py:378: FitFailedWarning: \n",
            "20 fits failed out of a total of 50.\n",
            "The score on these train-test partitions for these parameters will be set to nan.\n",
            "If these failures are not expected, you can try to debug them by setting error_score='raise'.\n",
            "\n",
            "Below are more details about the failures:\n",
            "--------------------------------------------------------------------------------\n",
            "20 fits failed with the following error:\n",
            "Traceback (most recent call last):\n",
            "  File \"/usr/local/lib/python3.10/dist-packages/sklearn/model_selection/_validation.py\", line 686, in _fit_and_score\n",
            "    estimator.fit(X_train, y_train, **fit_params)\n",
            "  File \"/usr/local/lib/python3.10/dist-packages/sklearn/ensemble/_forest.py\", line 340, in fit\n",
            "    self._validate_params()\n",
            "  File \"/usr/local/lib/python3.10/dist-packages/sklearn/base.py\", line 600, in _validate_params\n",
            "    validate_parameter_constraints(\n",
            "  File \"/usr/local/lib/python3.10/dist-packages/sklearn/utils/_param_validation.py\", line 97, in validate_parameter_constraints\n",
            "    raise InvalidParameterError(\n",
            "sklearn.utils._param_validation.InvalidParameterError: The 'n_estimators' parameter of RandomForestClassifier must be an int in the range [1, inf). Got 0 instead.\n",
            "\n",
            "  warnings.warn(some_fits_failed_message, FitFailedWarning)\n",
            "/usr/local/lib/python3.10/dist-packages/sklearn/model_selection/_search.py:952: UserWarning: One or more of the test scores are non-finite: [0.96666667        nan 0.96666667 0.96666667 0.94666667        nan\n",
            " 0.94666667 0.96666667        nan        nan]\n",
            "  warnings.warn(\n"
          ]
        },
        {
          "output_type": "stream",
          "name": "stdout",
          "text": [
            "              precision    recall  f1-score   support\n",
            "\n",
            "           0       1.00      1.00      1.00        50\n",
            "           1       1.00      0.96      0.98        50\n",
            "           2       0.96      1.00      0.98        50\n",
            "\n",
            "    accuracy                           0.99       150\n",
            "   macro avg       0.99      0.99      0.99       150\n",
            "weighted avg       0.99      0.99      0.99       150\n",
            "\n"
          ]
        }
      ]
    },
    {
      "cell_type": "code",
      "source": [
        "#grid search\n",
        "ghp = {\n",
        "    'n_estimators': np.arange(0, 151, 50),\n",
        "    'max_depth': [3, 5, 10, None],\n",
        "    'min_samples_split': np.arange(2, 7)\n",
        "}\n",
        "\n",
        "grid_search_space = GridSearchCV(rf_clf, param_grid=ghp,\n",
        "                                         cv=5,\n",
        "                                         scoring = make_scorer(accuracy_score)\n",
        "                                         )\n",
        "\n",
        "\n",
        "grid_search_space.fit(X, y)\n",
        "grid_best_hp = grid_search_space.best_params_\n",
        "\n",
        "rf_grid = RandomForestClassifier(**grid_best_hp, random_state=42)\n",
        "rf_grid.fit(X, y)\n",
        "\n",
        "g_pred = rf_grid.predict(X)\n",
        "print(classification_report(y, g_pred))"
      ],
      "metadata": {
        "colab": {
          "base_uri": "https://localhost:8080/"
        },
        "id": "jeT8hJNNDf99",
        "outputId": "fee035b3-34d5-44ca-e005-01a47ef7b076"
      },
      "execution_count": null,
      "outputs": [
        {
          "output_type": "stream",
          "name": "stdout",
          "text": [
            "              precision    recall  f1-score   support\n",
            "\n",
            "           0       1.00      1.00      1.00        50\n",
            "           1       0.98      0.94      0.96        50\n",
            "           2       0.94      0.98      0.96        50\n",
            "\n",
            "    accuracy                           0.97       150\n",
            "   macro avg       0.97      0.97      0.97       150\n",
            "weighted avg       0.97      0.97      0.97       150\n",
            "\n"
          ]
        },
        {
          "output_type": "stream",
          "name": "stderr",
          "text": [
            "/usr/local/lib/python3.10/dist-packages/sklearn/model_selection/_validation.py:378: FitFailedWarning: \n",
            "100 fits failed out of a total of 400.\n",
            "The score on these train-test partitions for these parameters will be set to nan.\n",
            "If these failures are not expected, you can try to debug them by setting error_score='raise'.\n",
            "\n",
            "Below are more details about the failures:\n",
            "--------------------------------------------------------------------------------\n",
            "100 fits failed with the following error:\n",
            "Traceback (most recent call last):\n",
            "  File \"/usr/local/lib/python3.10/dist-packages/sklearn/model_selection/_validation.py\", line 686, in _fit_and_score\n",
            "    estimator.fit(X_train, y_train, **fit_params)\n",
            "  File \"/usr/local/lib/python3.10/dist-packages/sklearn/ensemble/_forest.py\", line 340, in fit\n",
            "    self._validate_params()\n",
            "  File \"/usr/local/lib/python3.10/dist-packages/sklearn/base.py\", line 600, in _validate_params\n",
            "    validate_parameter_constraints(\n",
            "  File \"/usr/local/lib/python3.10/dist-packages/sklearn/utils/_param_validation.py\", line 97, in validate_parameter_constraints\n",
            "    raise InvalidParameterError(\n",
            "sklearn.utils._param_validation.InvalidParameterError: The 'n_estimators' parameter of RandomForestClassifier must be an int in the range [1, inf). Got 0 instead.\n",
            "\n",
            "  warnings.warn(some_fits_failed_message, FitFailedWarning)\n",
            "/usr/local/lib/python3.10/dist-packages/sklearn/model_selection/_search.py:952: UserWarning: One or more of the test scores are non-finite: [       nan 0.96666667 0.96666667 0.96666667        nan 0.96666667\n",
            " 0.96666667 0.96666667        nan 0.96666667 0.96666667 0.96666667\n",
            "        nan 0.96       0.96666667 0.96666667        nan 0.96\n",
            " 0.96666667 0.96666667        nan 0.96666667 0.96666667 0.96666667\n",
            "        nan 0.96666667 0.96666667 0.96666667        nan 0.96666667\n",
            " 0.96666667 0.96666667        nan 0.96666667 0.96666667 0.96666667\n",
            "        nan 0.96666667 0.96666667 0.96666667        nan 0.96666667\n",
            " 0.96666667 0.96666667        nan 0.96666667 0.96666667 0.96666667\n",
            "        nan 0.96666667 0.96666667 0.96666667        nan 0.96666667\n",
            " 0.96666667 0.96666667        nan 0.96666667 0.96666667 0.96666667\n",
            "        nan 0.96666667 0.96666667 0.96666667        nan 0.96666667\n",
            " 0.96666667 0.96666667        nan 0.96666667 0.96666667 0.96666667\n",
            "        nan 0.96666667 0.96666667 0.96666667        nan 0.96666667\n",
            " 0.96666667 0.96666667]\n",
            "  warnings.warn(\n"
          ]
        }
      ]
    },
    {
      "cell_type": "code",
      "source": [
        "grid_best_hp"
      ],
      "metadata": {
        "colab": {
          "base_uri": "https://localhost:8080/"
        },
        "id": "S1i1a0LFIAX9",
        "outputId": "0582ed63-599e-49da-c6ac-af0bd5e72506"
      },
      "execution_count": null,
      "outputs": [
        {
          "output_type": "execute_result",
          "data": {
            "text/plain": [
              "{'max_depth': 3, 'min_samples_split': 2, 'n_estimators': 50}"
            ]
          },
          "metadata": {},
          "execution_count": 7
        }
      ]
    },
    {
      "cell_type": "code",
      "source": [
        "random_best_hp"
      ],
      "metadata": {
        "colab": {
          "base_uri": "https://localhost:8080/"
        },
        "id": "qsPomx4qIElv",
        "outputId": "dee804b8-d223-4dae-e675-f1b10e96276c"
      },
      "execution_count": null,
      "outputs": [
        {
          "output_type": "execute_result",
          "data": {
            "text/plain": [
              "{'n_estimators': 100, 'min_samples_split': 4, 'max_depth': 7}"
            ]
          },
          "metadata": {},
          "execution_count": 8
        }
      ]
    },
    {
      "cell_type": "code",
      "source": [
        "#KNN\n",
        "from sklearn.datasets import make_classification as mkn\n",
        "from sklearn.model_selection import train_test_split as tst\n",
        "from sklearn.neighbors import KNeighborsClassifier as knn\n",
        "from sklearn.metrics import accuracy_score as acc"
      ],
      "metadata": {
        "id": "BcgtD_m-ISw0"
      },
      "execution_count": null,
      "outputs": []
    },
    {
      "cell_type": "code",
      "source": [
        "X, y = mkn(n_samples = 500, n_features = 10, random_state = 42)\n",
        "X_train, X_test, y_train, y_test = tst(X, y, test_size = 0.2, random_state=42)\n",
        "\n",
        "best_acc = 0\n",
        "best_k = None\n",
        "\n",
        "for k in range(1, 270):\n",
        "    model = knn(n_neighbors=k)\n",
        "    model.fit(X_train, y_train)\n",
        "    y_pred = model.predict(X_test)\n",
        "    model_acc = acc(y_test, y_pred)\n",
        "\n",
        "    if model_acc > best_acc:\n",
        "        best_acc = model_acc\n",
        "        best_k = k\n",
        "\n",
        "print(\"best k: \" , best_k)\n",
        "print(\"best acc: \" , best_acc)"
      ],
      "metadata": {
        "id": "cejGOR29N47u",
        "outputId": "97bac871-a1ef-440a-c1d6-c62107e20568",
        "colab": {
          "base_uri": "https://localhost:8080/"
        }
      },
      "execution_count": null,
      "outputs": [
        {
          "output_type": "stream",
          "name": "stdout",
          "text": [
            "best k:  262\n",
            "best acc:  0.91\n"
          ]
        }
      ]
    },
    {
      "cell_type": "code",
      "source": [],
      "metadata": {
        "id": "oL3c62igN-YV"
      },
      "execution_count": null,
      "outputs": []
    }
  ]
}