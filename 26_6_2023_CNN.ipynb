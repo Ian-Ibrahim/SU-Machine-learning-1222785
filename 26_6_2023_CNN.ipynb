{
  "nbformat": 4,
  "nbformat_minor": 0,
  "metadata": {
    "colab": {
      "provenance": [],
      "gpuType": "T4",
      "authorship_tag": "ABX9TyOaqvh3ExhkzCsWLzBzoeso",
      "include_colab_link": true
    },
    "kernelspec": {
      "name": "python3",
      "display_name": "Python 3"
    },
    "language_info": {
      "name": "python"
    },
    "accelerator": "GPU"
  },
  "cells": [
    {
      "cell_type": "markdown",
      "metadata": {
        "id": "view-in-github",
        "colab_type": "text"
      },
      "source": [
        "<a href=\"https://colab.research.google.com/github/Ian-Ibrahim/SU-Machine-learning-1222785/blob/main/26_6_2023_CNN.ipynb\" target=\"_parent\"><img src=\"https://colab.research.google.com/assets/colab-badge.svg\" alt=\"Open In Colab\"/></a>"
      ]
    },
    {
      "cell_type": "code",
      "execution_count": null,
      "metadata": {
        "id": "ezQH_LRUY--t"
      },
      "outputs": [],
      "source": [
        "import torch\n",
        "import torch.nn as nn\n",
        "import torch.optim as optim\n",
        "import torchvision\n",
        "import torchvision.transforms as transforms"
      ]
    },
    {
      "cell_type": "code",
      "source": [
        "class CNN(nn.Module):\n",
        "  def __init__(self):\n",
        "    super(CNN,self).__init__()\n",
        "    self.conv1=nn.Conv2d(3,16,kernel_size=3,stride=1,padding=1)\n",
        "    self.relu=nn.ReLU()\n",
        "    self.maxpool=nn.MaxPool2d(kernel_size=2,stride=2)\n",
        "    self.convl2=nn.Conv2d(16,32,kernel_size=3,stride=1,padding=1)\n",
        "    self.fc=nn.Linear(32*8*8,10)\n",
        "\n",
        "  def forward(self,x):\n",
        "    x=self.conv1(x)\n",
        "    x=self.relu(x)\n",
        "    x=self.maxpool(x)\n",
        "\n",
        "    x=self.convl2(x)\n",
        "    x=self.relu(x)\n",
        "    x=self.maxpool(x)\n",
        "\n",
        "    x=x.view(x.size(0),-1)\n",
        "    x=self.fc(x)\n",
        "\n",
        "    return x"
      ],
      "metadata": {
        "id": "g8ptjpSiZNmD"
      },
      "execution_count": null,
      "outputs": []
    },
    {
      "cell_type": "code",
      "source": [
        "def train(model,train_loader,criterion,optimizer,device):\n",
        "  model.train()\n",
        "  for images,labels in train_loader:\n",
        "    images,labels=images.to(device),labels.to(device)\n",
        "    optimizer.zero_grad()\n",
        "\n",
        "    outputs=model(images)\n",
        "    loss=criterion(outputs,labels)\n",
        "    loss.backward()\n",
        "\n",
        "    optimizer.step()\n",
        "def evaluate(model,test_loader,device):\n",
        "  model.eval()\n",
        "  correct=0\n",
        "  total=0\n",
        "\n",
        "  with torch.no_grad():\n",
        "    for images,labels in test_loader:\n",
        "      images,labels=images.to(device),labels.to(device)\n",
        "      outputs=model(images)\n",
        "      # _,varname is a ghost variable helps with effiency\n",
        "      _,predicted=torch.max(outputs.data,1)\n",
        "      total+=labels.size(0)\n",
        "      correct+=(predicted==labels).sum().item()\n",
        "\n",
        "    acc=100*correct/total\n",
        "    return acc"
      ],
      "metadata": {
        "id": "Q-vzlgqebCAJ"
      },
      "execution_count": null,
      "outputs": []
    },
    {
      "cell_type": "code",
      "source": [
        "transform = transforms.Compose([\n",
        "    transforms.ToTensor(),\n",
        "    transforms.Normalize((0.5, 0.5, 0.5), (0.5, 0.5, 0.5))\n",
        "])"
      ],
      "metadata": {
        "id": "oqbIix8SeF22"
      },
      "execution_count": null,
      "outputs": []
    },
    {
      "cell_type": "code",
      "source": [
        "# CIFA-10\n",
        "\n",
        "# typically batch size is in multiples of 4\n",
        "# num_workers is the number of CPUS\n",
        "\n",
        "\n",
        "\n",
        "# CIFAR-10\n",
        "train_set = torchvision.datasets.CIFAR10(root = './data', train = True, download = True, transform = transform)\n",
        "train_loader = torch.utils.data.DataLoader(train_set, batch_size=64, shuffle=True, num_workers=2)\n",
        "\n",
        "test_set = torchvision.datasets.CIFAR10(root = './data', train = False, download = True, transform = transform)\n",
        "test_loader = torch.utils.data.DataLoader(test_set, batch_size=64, shuffle=True, num_workers=2)"
      ],
      "metadata": {
        "colab": {
          "base_uri": "https://localhost:8080/"
        },
        "id": "ofip991Leqh2",
        "outputId": "dec39ee1-1d2d-4542-eb8d-39cce1726683"
      },
      "execution_count": null,
      "outputs": [
        {
          "output_type": "stream",
          "name": "stdout",
          "text": [
            "Downloading https://www.cs.toronto.edu/~kriz/cifar-10-python.tar.gz to ./data/cifar-10-python.tar.gz\n"
          ]
        },
        {
          "output_type": "stream",
          "name": "stderr",
          "text": [
            "100%|██████████| 170498071/170498071 [00:02<00:00, 79544908.78it/s]\n"
          ]
        },
        {
          "output_type": "stream",
          "name": "stdout",
          "text": [
            "Extracting ./data/cifar-10-python.tar.gz to ./data\n",
            "Files already downloaded and verified\n"
          ]
        }
      ]
    },
    {
      "cell_type": "code",
      "source": [
        "# cuda\n",
        "device=torch.device(\"cuda\" if torch.cuda.is_available() else \"cpu\")\n"
      ],
      "metadata": {
        "id": "kuJTNpwWgGRj"
      },
      "execution_count": null,
      "outputs": []
    },
    {
      "cell_type": "code",
      "source": [
        "device"
      ],
      "metadata": {
        "colab": {
          "base_uri": "https://localhost:8080/"
        },
        "id": "UMK_1cWfgce0",
        "outputId": "b6a5d3ca-128d-4b5a-8f95-c5e05c8df23e"
      },
      "execution_count": null,
      "outputs": [
        {
          "output_type": "execute_result",
          "data": {
            "text/plain": [
              "device(type='cuda')"
            ]
          },
          "metadata": {},
          "execution_count": 7
        }
      ]
    },
    {
      "cell_type": "code",
      "source": [
        "model=CNN().to(device)\n",
        "criterion=nn.CrossEntropyLoss()\n",
        "optimizer= optim.SGD(model.parameters(),lr=0.01,momentum=0.9,)"
      ],
      "metadata": {
        "id": "cI-sclV2gd2Y"
      },
      "execution_count": null,
      "outputs": []
    },
    {
      "cell_type": "code",
      "source": [
        "for epoch in range(2):\n",
        "  train(model,train_loader,criterion,optimizer,device)\n",
        "  acc=evaluate(model,test_loader,device)\n",
        "  print(\"Epoch: \",epoch+1)\n",
        "  print(\"Accuracy: \",acc)"
      ],
      "metadata": {
        "colab": {
          "base_uri": "https://localhost:8080/"
        },
        "id": "P7SUGemVhQuh",
        "outputId": "150d6aa0-42cf-4f9e-b44f-481202c3aba1"
      },
      "execution_count": null,
      "outputs": [
        {
          "output_type": "stream",
          "name": "stdout",
          "text": [
            "Epoch:  1\n",
            "Accuracy:  56.41\n",
            "Epoch:  2\n",
            "Accuracy:  63.35\n"
          ]
        }
      ]
    },
    {
      "cell_type": "code",
      "source": [],
      "metadata": {
        "id": "ojUT4VuVh7DD"
      },
      "execution_count": null,
      "outputs": []
    }
  ]
}