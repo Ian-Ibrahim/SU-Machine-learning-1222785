{
  "nbformat": 4,
  "nbformat_minor": 0,
  "metadata": {
    "colab": {
      "provenance": [],
      "gpuType": "T4",
      "authorship_tag": "ABX9TyMGty5kOfnvD9GI0/TjXcTC",
      "include_colab_link": true
    },
    "kernelspec": {
      "name": "python3",
      "display_name": "Python 3"
    },
    "language_info": {
      "name": "python"
    },
    "accelerator": "GPU"
  },
  "cells": [
    {
      "cell_type": "markdown",
      "metadata": {
        "id": "view-in-github",
        "colab_type": "text"
      },
      "source": [
        "<a href=\"https://colab.research.google.com/github/Ian-Ibrahim/SU-Machine-learning-1222785/blob/main/Text_classification_1222785_icsB.ipynb\" target=\"_parent\"><img src=\"https://colab.research.google.com/assets/colab-badge.svg\" alt=\"Open In Colab\"/></a>"
      ]
    },
    {
      "cell_type": "code",
      "execution_count": null,
      "metadata": {
        "id": "KN3wS1eslG_m"
      },
      "outputs": [],
      "source": [
        "import pandas as pd\n",
        "import numpy as np\n",
        "import tensorflow as tf\n",
        "import matplotlib.pyplot as plt\n",
        "import warnings\n",
        "warnings.filterwarnings('ignore')\n",
        "\n",
        "from sklearn.model_selection import train_test_split\n",
        "from sklearn.preprocessing import LabelEncoder, StandardScaler\n",
        "from tensorflow.keras.preprocessing.text import Tokenizer\n",
        "from tensorflow.keras.preprocessing.sequence import pad_sequences\n",
        "from tensorflow.keras.models import Sequential, load_model\n",
        "from tensorflow.keras.layers import Embedding, LSTM, Dense"
      ]
    },
    {
      "cell_type": "code",
      "source": [
        "df = pd.read_csv('CAT2_data.csv')                                               # read data\n",
        "\n",
        "df['X'].iloc[np.random.choice(df.index, 50, replace=False)] = np.nan            # randomly drop 50 rows\n",
        "df = df.sample(frac=1).reset_index(drop=True)                                   # shuffle rows\n",
        "\n",
        "labels = df['Y'].unique()                                                       # get unique labels\n",
        "\n",
        "df = df[df['Y'].isin(np.random.choice(labels, 2, replace=False))]               # randomly choose 2 labels\n",
        "df = df.reset_index(drop=True)                                                  # reset index\n",
        "\n",
        "print('Your will be using the two labels below with value counts as shown. Runing this cell again will generate another randomised dataframe for you to use')\n",
        "print(df['Y'].value_counts())                                                   # check value counts\n",
        "print(df.shape)                                                                 # check shape, rows and columns\n",
        "\n",
        "df.head()"
      ],
      "metadata": {
        "colab": {
          "base_uri": "https://localhost:8080/",
          "height": 293
        },
        "id": "06LrokQalvv2",
        "outputId": "94339404-5866-4de8-ce80-d2dfc6d2e3e6"
      },
      "execution_count": null,
      "outputs": [
        {
          "output_type": "stream",
          "name": "stdout",
          "text": [
            "Your will be using the two labels below with value counts as shown. Runing this cell again will generate another randomised dataframe for you to use\n",
            " Radiology           273\n",
            " Gastroenterology    230\n",
            "Name: Y, dtype: int64\n",
            "(503, 2)\n"
          ]
        },
        {
          "output_type": "execute_result",
          "data": {
            "text/plain": [
              "                                                   X                  Y\n",
              "0   Lower quadrant pain with nausea, vomiting, an...          Radiology\n",
              "1   Colonoscopy with terminal ileum examination. ...   Gastroenterology\n",
              "2   MRI L-S-Spine for Cauda Equina Syndrome secon...          Radiology\n",
              "3         Still having diarrhea, decreased appetite.   Gastroenterology\n",
              "4            Common Excretory Urogram - IVP template          Radiology"
            ],
            "text/html": [
              "\n",
              "  <div id=\"df-f54a910f-9449-4f3d-a330-49e1d796c977\">\n",
              "    <div class=\"colab-df-container\">\n",
              "      <div>\n",
              "<style scoped>\n",
              "    .dataframe tbody tr th:only-of-type {\n",
              "        vertical-align: middle;\n",
              "    }\n",
              "\n",
              "    .dataframe tbody tr th {\n",
              "        vertical-align: top;\n",
              "    }\n",
              "\n",
              "    .dataframe thead th {\n",
              "        text-align: right;\n",
              "    }\n",
              "</style>\n",
              "<table border=\"1\" class=\"dataframe\">\n",
              "  <thead>\n",
              "    <tr style=\"text-align: right;\">\n",
              "      <th></th>\n",
              "      <th>X</th>\n",
              "      <th>Y</th>\n",
              "    </tr>\n",
              "  </thead>\n",
              "  <tbody>\n",
              "    <tr>\n",
              "      <th>0</th>\n",
              "      <td>Lower quadrant pain with nausea, vomiting, an...</td>\n",
              "      <td>Radiology</td>\n",
              "    </tr>\n",
              "    <tr>\n",
              "      <th>1</th>\n",
              "      <td>Colonoscopy with terminal ileum examination. ...</td>\n",
              "      <td>Gastroenterology</td>\n",
              "    </tr>\n",
              "    <tr>\n",
              "      <th>2</th>\n",
              "      <td>MRI L-S-Spine for Cauda Equina Syndrome secon...</td>\n",
              "      <td>Radiology</td>\n",
              "    </tr>\n",
              "    <tr>\n",
              "      <th>3</th>\n",
              "      <td>Still having diarrhea, decreased appetite.</td>\n",
              "      <td>Gastroenterology</td>\n",
              "    </tr>\n",
              "    <tr>\n",
              "      <th>4</th>\n",
              "      <td>Common Excretory Urogram - IVP template</td>\n",
              "      <td>Radiology</td>\n",
              "    </tr>\n",
              "  </tbody>\n",
              "</table>\n",
              "</div>\n",
              "      <button class=\"colab-df-convert\" onclick=\"convertToInteractive('df-f54a910f-9449-4f3d-a330-49e1d796c977')\"\n",
              "              title=\"Convert this dataframe to an interactive table.\"\n",
              "              style=\"display:none;\">\n",
              "        \n",
              "  <svg xmlns=\"http://www.w3.org/2000/svg\" height=\"24px\"viewBox=\"0 0 24 24\"\n",
              "       width=\"24px\">\n",
              "    <path d=\"M0 0h24v24H0V0z\" fill=\"none\"/>\n",
              "    <path d=\"M18.56 5.44l.94 2.06.94-2.06 2.06-.94-2.06-.94-.94-2.06-.94 2.06-2.06.94zm-11 1L8.5 8.5l.94-2.06 2.06-.94-2.06-.94L8.5 2.5l-.94 2.06-2.06.94zm10 10l.94 2.06.94-2.06 2.06-.94-2.06-.94-.94-2.06-.94 2.06-2.06.94z\"/><path d=\"M17.41 7.96l-1.37-1.37c-.4-.4-.92-.59-1.43-.59-.52 0-1.04.2-1.43.59L10.3 9.45l-7.72 7.72c-.78.78-.78 2.05 0 2.83L4 21.41c.39.39.9.59 1.41.59.51 0 1.02-.2 1.41-.59l7.78-7.78 2.81-2.81c.8-.78.8-2.07 0-2.86zM5.41 20L4 18.59l7.72-7.72 1.47 1.35L5.41 20z\"/>\n",
              "  </svg>\n",
              "      </button>\n",
              "      \n",
              "  <style>\n",
              "    .colab-df-container {\n",
              "      display:flex;\n",
              "      flex-wrap:wrap;\n",
              "      gap: 12px;\n",
              "    }\n",
              "\n",
              "    .colab-df-convert {\n",
              "      background-color: #E8F0FE;\n",
              "      border: none;\n",
              "      border-radius: 50%;\n",
              "      cursor: pointer;\n",
              "      display: none;\n",
              "      fill: #1967D2;\n",
              "      height: 32px;\n",
              "      padding: 0 0 0 0;\n",
              "      width: 32px;\n",
              "    }\n",
              "\n",
              "    .colab-df-convert:hover {\n",
              "      background-color: #E2EBFA;\n",
              "      box-shadow: 0px 1px 2px rgba(60, 64, 67, 0.3), 0px 1px 3px 1px rgba(60, 64, 67, 0.15);\n",
              "      fill: #174EA6;\n",
              "    }\n",
              "\n",
              "    [theme=dark] .colab-df-convert {\n",
              "      background-color: #3B4455;\n",
              "      fill: #D2E3FC;\n",
              "    }\n",
              "\n",
              "    [theme=dark] .colab-df-convert:hover {\n",
              "      background-color: #434B5C;\n",
              "      box-shadow: 0px 1px 3px 1px rgba(0, 0, 0, 0.15);\n",
              "      filter: drop-shadow(0px 1px 2px rgba(0, 0, 0, 0.3));\n",
              "      fill: #FFFFFF;\n",
              "    }\n",
              "  </style>\n",
              "\n",
              "      <script>\n",
              "        const buttonEl =\n",
              "          document.querySelector('#df-f54a910f-9449-4f3d-a330-49e1d796c977 button.colab-df-convert');\n",
              "        buttonEl.style.display =\n",
              "          google.colab.kernel.accessAllowed ? 'block' : 'none';\n",
              "\n",
              "        async function convertToInteractive(key) {\n",
              "          const element = document.querySelector('#df-f54a910f-9449-4f3d-a330-49e1d796c977');\n",
              "          const dataTable =\n",
              "            await google.colab.kernel.invokeFunction('convertToInteractive',\n",
              "                                                     [key], {});\n",
              "          if (!dataTable) return;\n",
              "\n",
              "          const docLinkHtml = 'Like what you see? Visit the ' +\n",
              "            '<a target=\"_blank\" href=https://colab.research.google.com/notebooks/data_table.ipynb>data table notebook</a>'\n",
              "            + ' to learn more about interactive tables.';\n",
              "          element.innerHTML = '';\n",
              "          dataTable['output_type'] = 'display_data';\n",
              "          await google.colab.output.renderOutput(dataTable, element);\n",
              "          const docLink = document.createElement('div');\n",
              "          docLink.innerHTML = docLinkHtml;\n",
              "          element.appendChild(docLink);\n",
              "        }\n",
              "      </script>\n",
              "    </div>\n",
              "  </div>\n",
              "  "
            ]
          },
          "metadata": {},
          "execution_count": 4
        }
      ]
    },
    {
      "cell_type": "code",
      "source": [
        "# Data Preparation / Preprocessing\n",
        "missing_values = df.isnull().sum()\n",
        "print(missing_values)"
      ],
      "metadata": {
        "colab": {
          "base_uri": "https://localhost:8080/"
        },
        "id": "NFqrQLUvlw7-",
        "outputId": "40a83171-0340-4e7e-ff07-f55b75a200ce"
      },
      "execution_count": null,
      "outputs": [
        {
          "output_type": "stream",
          "name": "stdout",
          "text": [
            "X    20\n",
            "Y     0\n",
            "dtype: int64\n"
          ]
        }
      ]
    },
    {
      "cell_type": "code",
      "source": [
        "df = df.dropna()"
      ],
      "metadata": {
        "id": "ngS2KEo9mpDn"
      },
      "execution_count": null,
      "outputs": []
    },
    {
      "cell_type": "code",
      "source": [
        "df['X'] = df['X'].str.lower()\n",
        "df['Y'] = df['Y'].str.lower()\n",
        "df['Y'] = df['Y'].str.replace('\\s+', ' ')\n",
        "df['X'] = df['X'].str.replace('\\s+', ' ')\n",
        "df['Y'] = df['Y'].str.replace('[^\\w\\s]', '')\n",
        "df['X'] = df['X'].str.replace('[^\\w\\s]', '')"
      ],
      "metadata": {
        "id": "A7xYv_4jnuIB"
      },
      "execution_count": null,
      "outputs": []
    },
    {
      "cell_type": "code",
      "source": [],
      "metadata": {
        "id": "AjC-DLtymrWX"
      },
      "execution_count": null,
      "outputs": []
    },
    {
      "cell_type": "code",
      "source": [
        "label_encoder = LabelEncoder()\n",
        "df['Y'] = label_encoder.fit_transform(df['Y'])"
      ],
      "metadata": {
        "id": "AkuDNG5WnTUT"
      },
      "execution_count": null,
      "outputs": []
    },
    {
      "cell_type": "code",
      "source": [
        "print(df['Y'].unique())"
      ],
      "metadata": {
        "colab": {
          "base_uri": "https://localhost:8080/"
        },
        "id": "8s0aEqgMnmUR",
        "outputId": "2062d1ff-bb0c-4e9b-a8e5-bb99dc73fb20"
      },
      "execution_count": null,
      "outputs": [
        {
          "output_type": "stream",
          "name": "stdout",
          "text": [
            "[1 0]\n"
          ]
        }
      ]
    },
    {
      "cell_type": "code",
      "source": [
        "tokenizer = Tokenizer()\n",
        "tokenizer.fit_on_texts(df['X'])\n",
        "sequences = tokenizer.texts_to_sequences(df['X'])\n",
        "max_length = max(len(sequence) for sequence in sequences)\n",
        "padded_sequences = pad_sequences(sequences, maxlen=max_length)"
      ],
      "metadata": {
        "id": "c-NM1WTTosP3"
      },
      "execution_count": null,
      "outputs": []
    },
    {
      "cell_type": "code",
      "source": [
        "X = padded_sequences\n",
        "y = df['Y']\n",
        "X_train, X_test, y_train, y_test = train_test_split(X, y, test_size=0.2, random_state=42)"
      ],
      "metadata": {
        "id": "4rR_M8EootnA"
      },
      "execution_count": null,
      "outputs": []
    },
    {
      "cell_type": "code",
      "source": [
        "print('GPU available', tf.config.list_physical_devices('GPU'))\n"
      ],
      "metadata": {
        "colab": {
          "base_uri": "https://localhost:8080/"
        },
        "id": "A90GCwjhpuLp",
        "outputId": "56f1851d-ba38-44ba-93d4-b572693d0845"
      },
      "execution_count": null,
      "outputs": [
        {
          "output_type": "stream",
          "name": "stdout",
          "text": [
            "GPU available [PhysicalDevice(name='/physical_device:GPU:0', device_type='GPU')]\n"
          ]
        }
      ]
    },
    {
      "cell_type": "code",
      "source": [
        "model = Sequential()\n",
        "model.add(Embedding(input_dim=len(tokenizer.word_index) + 1, output_dim=300, input_length=max_length))\n",
        "model.add(LSTM(units=128))\n",
        "model.add(Dense(units=128, activation='relu'))\n",
        "model.add(Dense(units=1, activation='sigmoid'))"
      ],
      "metadata": {
        "id": "jwlEMzMpqZDJ"
      },
      "execution_count": null,
      "outputs": []
    },
    {
      "cell_type": "code",
      "source": [
        "model.compile(loss='binary_crossentropy',optimizer='adam',metrics=['accuracy'])"
      ],
      "metadata": {
        "id": "zwmMwNBDqzUS"
      },
      "execution_count": null,
      "outputs": []
    },
    {
      "cell_type": "code",
      "source": [
        "history = model.fit(X_train, y_train, validation_data=(X_test, y_test), epochs=30, batch_size=32)"
      ],
      "metadata": {
        "colab": {
          "base_uri": "https://localhost:8080/"
        },
        "id": "LBZ_XGaasYui",
        "outputId": "130fb1ba-8196-4d0c-fa5f-c2efc5c4c92f"
      },
      "execution_count": null,
      "outputs": [
        {
          "output_type": "stream",
          "name": "stdout",
          "text": [
            "Epoch 1/30\n",
            "13/13 [==============================] - 0s 23ms/step - loss: 0.0312 - accuracy: 0.9793 - val_loss: 0.8702 - val_accuracy: 0.7629\n",
            "Epoch 2/30\n",
            "13/13 [==============================] - 0s 32ms/step - loss: 0.0291 - accuracy: 0.9819 - val_loss: 0.8584 - val_accuracy: 0.7938\n",
            "Epoch 3/30\n",
            "13/13 [==============================] - 0s 32ms/step - loss: 0.0305 - accuracy: 0.9819 - val_loss: 0.8458 - val_accuracy: 0.7732\n",
            "Epoch 4/30\n",
            "13/13 [==============================] - 0s 31ms/step - loss: 0.0286 - accuracy: 0.9767 - val_loss: 0.8633 - val_accuracy: 0.7732\n",
            "Epoch 5/30\n",
            "13/13 [==============================] - 0s 13ms/step - loss: 0.0288 - accuracy: 0.9767 - val_loss: 0.8874 - val_accuracy: 0.7732\n",
            "Epoch 6/30\n",
            "13/13 [==============================] - 1s 49ms/step - loss: 0.0287 - accuracy: 0.9793 - val_loss: 0.8964 - val_accuracy: 0.7835\n",
            "Epoch 7/30\n",
            "13/13 [==============================] - 0s 12ms/step - loss: 0.0275 - accuracy: 0.9793 - val_loss: 0.9455 - val_accuracy: 0.7835\n",
            "Epoch 8/30\n",
            "13/13 [==============================] - 0s 31ms/step - loss: 0.0273 - accuracy: 0.9767 - val_loss: 0.9681 - val_accuracy: 0.7938\n",
            "Epoch 9/30\n",
            "13/13 [==============================] - 0s 12ms/step - loss: 0.0272 - accuracy: 0.9767 - val_loss: 0.9969 - val_accuracy: 0.7938\n",
            "Epoch 10/30\n",
            "13/13 [==============================] - 0s 31ms/step - loss: 0.0273 - accuracy: 0.9819 - val_loss: 1.0303 - val_accuracy: 0.7938\n",
            "Epoch 11/30\n",
            "13/13 [==============================] - 1s 73ms/step - loss: 0.0278 - accuracy: 0.9793 - val_loss: 1.0187 - val_accuracy: 0.7938\n",
            "Epoch 12/30\n",
            "13/13 [==============================] - 0s 16ms/step - loss: 0.0264 - accuracy: 0.9845 - val_loss: 1.0580 - val_accuracy: 0.7938\n",
            "Epoch 13/30\n",
            "13/13 [==============================] - 1s 53ms/step - loss: 0.0264 - accuracy: 0.9793 - val_loss: 1.1577 - val_accuracy: 0.7732\n",
            "Epoch 14/30\n",
            "13/13 [==============================] - 0s 19ms/step - loss: 0.0309 - accuracy: 0.9741 - val_loss: 1.0991 - val_accuracy: 0.7629\n",
            "Epoch 15/30\n",
            "13/13 [==============================] - 1s 48ms/step - loss: 0.0277 - accuracy: 0.9819 - val_loss: 1.0658 - val_accuracy: 0.7938\n",
            "Epoch 16/30\n",
            "13/13 [==============================] - 1s 72ms/step - loss: 0.0263 - accuracy: 0.9793 - val_loss: 1.0775 - val_accuracy: 0.7938\n",
            "Epoch 17/30\n",
            "13/13 [==============================] - 0s 31ms/step - loss: 0.0261 - accuracy: 0.9819 - val_loss: 1.1130 - val_accuracy: 0.7835\n",
            "Epoch 18/30\n",
            "13/13 [==============================] - 1s 56ms/step - loss: 0.0261 - accuracy: 0.9819 - val_loss: 1.1438 - val_accuracy: 0.7835\n",
            "Epoch 19/30\n",
            "13/13 [==============================] - 0s 13ms/step - loss: 0.0260 - accuracy: 0.9819 - val_loss: 1.1930 - val_accuracy: 0.7835\n",
            "Epoch 20/30\n",
            "13/13 [==============================] - 0s 12ms/step - loss: 0.0253 - accuracy: 0.9793 - val_loss: 1.3569 - val_accuracy: 0.8144\n",
            "Epoch 21/30\n",
            "13/13 [==============================] - 0s 32ms/step - loss: 0.0989 - accuracy: 0.9689 - val_loss: 0.7316 - val_accuracy: 0.8351\n",
            "Epoch 22/30\n",
            "13/13 [==============================] - 1s 50ms/step - loss: 0.0334 - accuracy: 0.9767 - val_loss: 0.6028 - val_accuracy: 0.8351\n",
            "Epoch 23/30\n",
            "13/13 [==============================] - 0s 32ms/step - loss: 0.0340 - accuracy: 0.9767 - val_loss: 0.7074 - val_accuracy: 0.8351\n",
            "Epoch 24/30\n",
            "13/13 [==============================] - 0s 32ms/step - loss: 0.0327 - accuracy: 0.9793 - val_loss: 0.7744 - val_accuracy: 0.8041\n",
            "Epoch 25/30\n",
            "13/13 [==============================] - 0s 31ms/step - loss: 0.0310 - accuracy: 0.9793 - val_loss: 0.8051 - val_accuracy: 0.8144\n",
            "Epoch 26/30\n",
            "13/13 [==============================] - 0s 13ms/step - loss: 0.0302 - accuracy: 0.9793 - val_loss: 0.8279 - val_accuracy: 0.8144\n",
            "Epoch 27/30\n",
            "13/13 [==============================] - 0s 13ms/step - loss: 0.0298 - accuracy: 0.9715 - val_loss: 0.8565 - val_accuracy: 0.8144\n",
            "Epoch 28/30\n",
            "13/13 [==============================] - 0s 31ms/step - loss: 0.0294 - accuracy: 0.9793 - val_loss: 0.8959 - val_accuracy: 0.8144\n",
            "Epoch 29/30\n",
            "13/13 [==============================] - 1s 51ms/step - loss: 0.0290 - accuracy: 0.9793 - val_loss: 0.9391 - val_accuracy: 0.8144\n",
            "Epoch 30/30\n",
            "13/13 [==============================] - 0s 11ms/step - loss: 0.0285 - accuracy: 0.9793 - val_loss: 0.9607 - val_accuracy: 0.8041\n"
          ]
        }
      ]
    },
    {
      "cell_type": "code",
      "source": [
        "# Access the loss values from the history object\n",
        "train_loss = history.history['loss']\n",
        "val_loss = history.history['val_loss']\n",
        "\n",
        "# Plot the loss values\n",
        "epochs = range(1, len(train_loss) + 1)\n",
        "plt.plot(epochs, train_loss,  label='Training Loss')\n",
        "plt.plot(epochs, val_loss,  label='Validation Loss')\n",
        "plt.title('Loss Plot')\n",
        "plt.xlabel('Epochs')\n",
        "plt.ylabel('Loss')\n",
        "plt.legend()\n",
        "plt.show()"
      ],
      "metadata": {
        "colab": {
          "base_uri": "https://localhost:8080/",
          "height": 472
        },
        "id": "bzCYo9qAsVjk",
        "outputId": "534d50c2-0806-4376-c56a-53ef24a8937d"
      },
      "execution_count": null,
      "outputs": [
        {
          "output_type": "display_data",
          "data": {
            "text/plain": [
              "<Figure size 640x480 with 1 Axes>"
            ],
            "image/png": "[encoded data removed]"
          },
          "metadata": {}
        }
      ]
    },
    {
      "cell_type": "code",
      "source": [
        "history = model.fit(X_train, y_train, validation_data=(X_test, y_test), epochs=20, batch_size=32)"
      ],
      "metadata": {
        "colab": {
          "base_uri": "https://localhost:8080/"
        },
        "id": "sYWLutT9q9sM",
        "outputId": "53126084-e283-4f6d-a6b3-2369139fc1bb"
      },
      "execution_count": null,
      "outputs": [
        {
          "output_type": "stream",
          "name": "stdout",
          "text": [
            "Epoch 1/20\n",
            "13/13 [==============================] - 1s 53ms/step - loss: 0.0445 - accuracy: 0.9767 - val_loss: 0.5290 - val_accuracy: 0.8351\n",
            "Epoch 2/20\n",
            "13/13 [==============================] - 2s 111ms/step - loss: 0.0517 - accuracy: 0.9715 - val_loss: 0.5361 - val_accuracy: 0.7835\n",
            "Epoch 3/20\n",
            "13/13 [==============================] - 1s 90ms/step - loss: 0.0826 - accuracy: 0.9793 - val_loss: 0.6147 - val_accuracy: 0.7526\n",
            "Epoch 4/20\n",
            "13/13 [==============================] - 2s 154ms/step - loss: 0.0582 - accuracy: 0.9819 - val_loss: 0.6354 - val_accuracy: 0.7423\n",
            "Epoch 5/20\n",
            "13/13 [==============================] - 1s 89ms/step - loss: 0.0516 - accuracy: 0.9819 - val_loss: 0.6671 - val_accuracy: 0.7526\n",
            "Epoch 6/20\n",
            "13/13 [==============================] - 2s 109ms/step - loss: 0.0460 - accuracy: 0.9819 - val_loss: 0.6721 - val_accuracy: 0.7526\n",
            "Epoch 7/20\n",
            "13/13 [==============================] - 1s 110ms/step - loss: 0.0442 - accuracy: 0.9767 - val_loss: 0.6690 - val_accuracy: 0.7526\n",
            "Epoch 8/20\n",
            "13/13 [==============================] - 0s 13ms/step - loss: 0.0433 - accuracy: 0.9767 - val_loss: 0.6666 - val_accuracy: 0.7526\n",
            "Epoch 9/20\n",
            "13/13 [==============================] - 1s 92ms/step - loss: 0.0413 - accuracy: 0.9819 - val_loss: 0.6663 - val_accuracy: 0.7526\n",
            "Epoch 10/20\n",
            "13/13 [==============================] - 1s 76ms/step - loss: 0.0393 - accuracy: 0.9819 - val_loss: 0.6744 - val_accuracy: 0.7732\n",
            "Epoch 11/20\n",
            "13/13 [==============================] - 1s 51ms/step - loss: 0.0378 - accuracy: 0.9793 - val_loss: 0.6822 - val_accuracy: 0.7629\n",
            "Epoch 12/20\n",
            "13/13 [==============================] - 1s 51ms/step - loss: 0.0367 - accuracy: 0.9819 - val_loss: 0.7016 - val_accuracy: 0.7732\n",
            "Epoch 13/20\n",
            "13/13 [==============================] - 1s 51ms/step - loss: 0.0356 - accuracy: 0.9819 - val_loss: 0.7114 - val_accuracy: 0.7629\n",
            "Epoch 14/20\n",
            "13/13 [==============================] - 1s 33ms/step - loss: 0.0355 - accuracy: 0.9741 - val_loss: 0.7205 - val_accuracy: 0.7629\n",
            "Epoch 15/20\n",
            "13/13 [==============================] - 1s 72ms/step - loss: 0.0333 - accuracy: 0.9819 - val_loss: 0.7499 - val_accuracy: 0.7629\n",
            "Epoch 16/20\n",
            "13/13 [==============================] - 1s 72ms/step - loss: 0.0329 - accuracy: 0.9819 - val_loss: 0.7745 - val_accuracy: 0.7835\n",
            "Epoch 17/20\n",
            "13/13 [==============================] - 1s 91ms/step - loss: 0.0312 - accuracy: 0.9793 - val_loss: 0.7896 - val_accuracy: 0.7835\n",
            "Epoch 18/20\n",
            "13/13 [==============================] - 1s 51ms/step - loss: 0.0342 - accuracy: 0.9793 - val_loss: 0.8282 - val_accuracy: 0.7938\n",
            "Epoch 19/20\n",
            "13/13 [==============================] - 0s 20ms/step - loss: 0.0392 - accuracy: 0.9793 - val_loss: 0.9373 - val_accuracy: 0.7732\n",
            "Epoch 20/20\n",
            "13/13 [==============================] - 1s 80ms/step - loss: 0.0332 - accuracy: 0.9819 - val_loss: 0.9114 - val_accuracy: 0.7732\n"
          ]
        }
      ]
    },
    {
      "cell_type": "code",
      "source": [
        "loss, accuracy = model.evaluate(X_test, y_test)\n",
        "print(' Loss:', loss)\n",
        "print('Accuracy:', accuracy)"
      ],
      "metadata": {
        "colab": {
          "base_uri": "https://localhost:8080/"
        },
        "id": "BLfsEj1DrCAL",
        "outputId": "2a049bd4-e2e4-4417-e63b-f2e42e005497"
      },
      "execution_count": null,
      "outputs": [
        {
          "output_type": "stream",
          "name": "stdout",
          "text": [
            "4/4 [==============================] - 0s 7ms/step - loss: 0.9114 - accuracy: 0.7732\n",
            "Test Loss: 0.9114330410957336\n",
            "Test Accuracy: 0.7731958627700806\n"
          ]
        }
      ]
    },
    {
      "cell_type": "code",
      "source": [
        "model.save('B-122785.h5')"
      ],
      "metadata": {
        "id": "zbbufGR-rbvB"
      },
      "execution_count": null,
      "outputs": []
    },
    {
      "cell_type": "code",
      "source": [],
      "metadata": {
        "id": "uBnIzVjCuKi_"
      },
      "execution_count": null,
      "outputs": []
    }
  ]
}