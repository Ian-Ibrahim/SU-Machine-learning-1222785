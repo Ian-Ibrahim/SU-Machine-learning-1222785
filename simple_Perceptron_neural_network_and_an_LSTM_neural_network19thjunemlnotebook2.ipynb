{
  "nbformat": 4,
  "nbformat_minor": 0,
  "metadata": {
    "colab": {
      "provenance": [],
      "authorship_tag": "ABX9TyPcjmDrmFcEk0das1kAjt2H",
      "include_colab_link": true
    },
    "kernelspec": {
      "name": "python3",
      "display_name": "Python 3"
    },
    "language_info": {
      "name": "python"
    }
  },
  "cells": [
    {
      "cell_type": "markdown",
      "metadata": {
        "id": "view-in-github",
        "colab_type": "text"
      },
      "source": [
        "<a href=\"https://colab.research.google.com/github/Ian-Ibrahim/SU-Machine-learning-1222785/blob/main/simple_Perceptron_neural_network_and_an_LSTM_neural_network19thjunemlnotebook2.ipynb\" target=\"_parent\"><img src=\"https://colab.research.google.com/assets/colab-badge.svg\" alt=\"Open In Colab\"/></a>"
      ]
    },
    {
      "cell_type": "code",
      "execution_count": null,
      "metadata": {
        "id": "bDkgEbpUb6--"
      },
      "outputs": [],
      "source": [
        "import numpy as np\n",
        "import tensorflow as tf"
      ]
    },
    {
      "cell_type": "code",
      "source": [
        "inputs = np.array([\n",
        "    [0, 0],\n",
        "    [0, 1],\n",
        "    [1, 0],\n",
        "    [1, 1]\n",
        "])\n",
        "\n",
        "targets = np.array([0, 1, 1, 0])"
      ],
      "metadata": {
        "id": "JmzUhjARcACq"
      },
      "execution_count": null,
      "outputs": []
    },
    {
      "cell_type": "code",
      "source": [
        "class Perceptron:\n",
        "    def __init__(self, num_inputs, lr = 0.1):\n",
        "        self.weights = np.zeros(num_inputs)\n",
        "        self.bias = 0\n",
        "        self.lr = lr\n",
        "\n",
        "    def predict(self, inputs):\n",
        "        weighted_sum = np.dot(inputs, self.weights) + self.bias\n",
        "        output = 1 if weighted_sum > 0 else 0\n",
        "        return output\n"
      ],
      "metadata": {
        "id": "hoOHcQl4cBUI"
      },
      "execution_count": null,
      "outputs": []
    },
    {
      "cell_type": "code",
      "source": [
        "# create neuron (perceptron)\n",
        "clf  = Perceptron(num_inputs=2, lr = 0.1)\n",
        "\n",
        "for i in range(100):\n",
        "    for input_data, target in zip(inputs, targets):\n",
        "        prediction = clf.predict(input_data)\n",
        "        error = target - prediction\n",
        "\n",
        "        clf.weights += clf.lr * error * input_data\n",
        "        clf.bias += clf.lr * error\n"
      ],
      "metadata": {
        "id": "Kczd-uYtcCjg"
      },
      "execution_count": null,
      "outputs": []
    },
    {
      "cell_type": "code",
      "source": [
        "#testing\n",
        "\n",
        "print('Input\\t\\tOutput')\n",
        "for input_data in inputs:\n",
        "    prediction = clf.predict(input_data)\n",
        "    print(f\"{input_data}\\t\\t{prediction}\")"
      ],
      "metadata": {
        "colab": {
          "base_uri": "https://localhost:8080/"
        },
        "id": "cP06NcyMcDxL",
        "outputId": "eb2c5999-3bda-402d-aa62-cffe922595d3"
      },
      "execution_count": null,
      "outputs": [
        {
          "output_type": "stream",
          "name": "stdout",
          "text": [
            "Input\t\tOutput\n",
            "[0 0]\t\t1\n",
            "[0 1]\t\t1\n",
            "[1 0]\t\t0\n",
            "[1 1]\t\t0\n"
          ]
        }
      ]
    },
    {
      "cell_type": "code",
      "source": [
        "# reshape inputs for LSTM\n",
        "\n",
        "inputs = np.reshape(inputs, (inputs.shape[0], inputs.shape[1], 1))"
      ],
      "metadata": {
        "id": "LC2xYfHNcFEd"
      },
      "execution_count": null,
      "outputs": []
    },
    {
      "cell_type": "code",
      "source": [
        "model = tf.keras.Sequential([\n",
        "    tf.keras.layers.LSTM(units = 4, input_shape = (2, 1)),\n",
        "    tf.keras.layers.Dense(units = 1, activation= 'sigmoid')\n",
        "])\n",
        "\n",
        "model.compile(optimizer= 'adam', loss = 'binary_crossentropy', metrics = ['accuracy'])\n",
        "\n",
        "model.fit(inputs, targets, epochs=1000, verbose=0)\n",
        "\n",
        "predictions = model.predict(inputs)\n",
        "predictions = np.round(predictions).flatten()\n",
        "\n",
        "print('Input\\t\\tOutput')\n",
        "for input_data, prediction in zip(inputs, predictions):\n",
        "    print(f\"{input_data}\\t\\t{prediction}\")"
      ],
      "metadata": {
        "colab": {
          "base_uri": "https://localhost:8080/"
        },
        "id": "cth7LxZee1QW",
        "outputId": "748737f8-e7cc-45b6-cd2a-f25536e97993"
      },
      "execution_count": null,
      "outputs": [
        {
          "output_type": "stream",
          "name": "stdout",
          "text": [
            "1/1 [==============================] - 0s 276ms/step\n",
            "Input\t\tOutput\n",
            "[[0]\n",
            " [0]]\t\t0.0\n",
            "[[0]\n",
            " [1]]\t\t1.0\n",
            "[[1]\n",
            " [0]]\t\t1.0\n",
            "[[1]\n",
            " [1]]\t\t0.0\n"
          ]
        }
      ]
    },
    {
      "cell_type": "code",
      "source": [],
      "metadata": {
        "id": "_crbDnpde2a6"
      },
      "execution_count": null,
      "outputs": []
    }
  ]
}