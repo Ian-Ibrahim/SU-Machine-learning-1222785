{
  "nbformat": 4,
  "nbformat_minor": 0,
  "metadata": {
    "colab": {
      "provenance": [],
      "authorship_tag": "ABX9TyMABtN4SQ2is2ySR/w/2l3k",
      "include_colab_link": true
    },
    "kernelspec": {
      "name": "python3",
      "display_name": "Python 3"
    },
    "language_info": {
      "name": "python"
    }
  },
  "cells": [
    {
      "cell_type": "markdown",
      "metadata": {
        "id": "view-in-github",
        "colab_type": "text"
      },
      "source": [
        "<a href=\"https://colab.research.google.com/github/Ian-Ibrahim/SU-Machine-learning-1222785/blob/main/Foward_propagation_19thJUNEmlclass.ipynb\" target=\"_parent\"><img src=\"https://colab.research.google.com/assets/colab-badge.svg\" alt=\"Open In Colab\"/></a>"
      ]
    },
    {
      "cell_type": "code",
      "execution_count": null,
      "metadata": {
        "id": "mN03AWkGJ2ZI"
      },
      "outputs": [],
      "source": [
        "import numpy as np\n",
        "import matplotlib.pyplot as plt"
      ]
    },
    {
      "cell_type": "code",
      "source": [
        "def sigmoid(x):\n",
        "  return 1/(1+np.exp(-x))"
      ],
      "metadata": {
        "id": "vHrNwlg_KZHT"
      },
      "execution_count": null,
      "outputs": []
    },
    {
      "cell_type": "code",
      "source": [
        "training_inputs=np.array([\n",
        "    [0, 0, 1],\n",
        "    [1, 1, 1],\n",
        "    [1, 0, 1],\n",
        "    [0, 1, 1],\n",
        "])\n",
        " # becomes a column vect. of 4 by 1 matrix\n",
        "training_outputs=np.array([0,1,1,0]).T\n",
        "np.random.seed(1)"
      ],
      "metadata": {
        "id": "Ys1TGd1eKqb1"
      },
      "execution_count": null,
      "outputs": []
    },
    {
      "cell_type": "code",
      "source": [
        "weights = 2 * np.random.random((3, 1)) - 1\n",
        "\n",
        "print('Init. weights')\n",
        "print(weights)"
      ],
      "metadata": {
        "colab": {
          "base_uri": "https://localhost:8080/"
        },
        "id": "EO2wvsMWLXae",
        "outputId": "569b4ed4-c923-4644-9128-687128225749"
      },
      "execution_count": null,
      "outputs": [
        {
          "output_type": "stream",
          "name": "stdout",
          "text": [
            "Init. weights\n",
            "[[-0.16595599]\n",
            " [ 0.44064899]\n",
            " [-0.99977125]]\n"
          ]
        }
      ]
    },
    {
      "cell_type": "code",
      "source": [
        "# foward propagation (1 timestep)\n",
        "# foward prop. (1 timestep)\n",
        "for itt in range(1):\n",
        "    input_layer =  training_inputs\n",
        "    outputs = sigmoid(np.dot(input_layer, weights))\n",
        "\n",
        "print(\"Outputs after 1 itt.\")\n",
        "print(outputs)"
      ],
      "metadata": {
        "colab": {
          "base_uri": "https://localhost:8080/"
        },
        "id": "8zdisnZ4L-64",
        "outputId": "bc6ec08b-6914-4798-ddc0-2a34c189639b"
      },
      "execution_count": null,
      "outputs": [
        {
          "output_type": "stream",
          "name": "stdout",
          "text": [
            "Outputs after 1 itt.\n",
            "[[0.2689864 ]\n",
            " [0.3262757 ]\n",
            " [0.23762817]\n",
            " [0.36375058]]\n"
          ]
        }
      ]
    },
    {
      "cell_type": "markdown",
      "source": [
        "1. Foward Propagation\n",
        "2. Get error (actual - pred)\n",
        "3. Adjust weights (derivatives)\n",
        "4. repeat n times (where n implies no. of epochs)"
      ],
      "metadata": {
        "id": "e9pT5VHdPwv0"
      }
    },
    {
      "cell_type": "code",
      "source": [
        "def sigmoid_der(x):\n",
        "    return x * (1 - x)"
      ],
      "metadata": {
        "id": "z-bUhTUfPxft"
      },
      "execution_count": null,
      "outputs": []
    },
    {
      "cell_type": "code",
      "source": [
        "print('Init. weights')\n",
        "print(weights)\n",
        "\n",
        "\n",
        "# foward prop. (1 timestep)\n",
        "for itt in range(1):\n",
        "    input_layer =  training_inputs\n",
        "    outputs = sigmoid(np.dot(input_layer, weights))\n",
        "\n",
        "    error = training_outputs - outputs\n",
        "\n",
        "\n",
        "print(\"Outputs after 1 itt.\")\n",
        "print(outputs)"
      ],
      "metadata": {
        "colab": {
          "base_uri": "https://localhost:8080/"
        },
        "id": "xO-avKc_Pzkm",
        "outputId": "048c0862-dcd3-47a8-c179-3cd47effa6cd"
      },
      "execution_count": null,
      "outputs": [
        {
          "output_type": "stream",
          "name": "stdout",
          "text": [
            "Init. weights\n",
            "[[-0.16595599]\n",
            " [ 0.44064899]\n",
            " [-0.99977125]]\n",
            "Outputs after 1 itt.\n",
            "[[0.2689864 ]\n",
            " [0.3262757 ]\n",
            " [0.23762817]\n",
            " [0.36375058]]\n"
          ]
        }
      ]
    },
    {
      "cell_type": "code",
      "source": [],
      "metadata": {
        "id": "E_BhY0yFP1UM"
      },
      "execution_count": null,
      "outputs": []
    }
  ]
}