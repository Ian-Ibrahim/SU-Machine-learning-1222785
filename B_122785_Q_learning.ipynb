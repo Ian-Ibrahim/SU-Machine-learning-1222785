{
  "nbformat": 4,
  "nbformat_minor": 0,
  "metadata": {
    "colab": {
      "provenance": [],
      "authorship_tag": "ABX9TyN/hyFDqFH1meGEopid6OcF",
      "include_colab_link": true
    },
    "kernelspec": {
      "name": "python3",
      "display_name": "Python 3"
    },
    "language_info": {
      "name": "python"
    }
  },
  "cells": [
    {
      "cell_type": "markdown",
      "metadata": {
        "id": "view-in-github",
        "colab_type": "text"
      },
      "source": [
        "<a href=\"https://colab.research.google.com/github/Ian-Ibrahim/SU-Machine-learning-1222785/blob/main/B_122785_Q_learning.ipynb\" target=\"_parent\"><img src=\"https://colab.research.google.com/assets/colab-badge.svg\" alt=\"Open In Colab\"/></a>"
      ]
    },
    {
      "cell_type": "code",
      "execution_count": null,
      "metadata": {
        "id": "0qsAmzCy87m7"
      },
      "outputs": [],
      "source": [
        "import numpy as np\n",
        "import matplotlib.pyplot as plt\n",
        "\n",
        "import warnings\n",
        "warnings.filterwarnings('ignore')"
      ]
    },
    {
      "cell_type": "code",
      "source": [
        "# Set Up Env.\n",
        "grid_rows = 2\n",
        "grid_cols = 3\n",
        "num_actions = 4\n",
        "\n",
        "# Define the reward matrix\n",
        "rewards = np.array([\n",
        "    [-10, 1, 0],\n",
        "    [0, -10, 10]\n",
        "])\n",
        "print(rewards)"
      ],
      "metadata": {
        "id": "7q2jJJ4r8-i3",
        "colab": {
          "base_uri": "https://localhost:8080/"
        },
        "outputId": "c5a80949-db9f-4ab1-94b6-c04482713bdb"
      },
      "execution_count": null,
      "outputs": [
        {
          "output_type": "stream",
          "name": "stdout",
          "text": [
            "[[-10   1   0]\n",
            " [  0 -10  10]]\n"
          ]
        }
      ]
    },
    {
      "cell_type": "code",
      "source": [
        "\n",
        "# Define the Q-Table\n",
        "q_table = np.zeros((grid_rows,grid_cols,num_actions)) # Fill in the blank\n",
        "\n"
      ],
      "metadata": {
        "id": "7fRUGkX--uis"
      },
      "execution_count": null,
      "outputs": []
    },
    {
      "cell_type": "code",
      "source": [
        "# Set hyper-parameters\n",
        "alpha = 0.1  # learning rate\n",
        "gamma = 0.9  # discount factor\n",
        "epsilon = 0.1  # exploration rate\n",
        "learningRate=0.1"
      ],
      "metadata": {
        "id": "Z4R_VhtIMO5D"
      },
      "execution_count": null,
      "outputs": []
    },
    {
      "cell_type": "code",
      "source": [
        "print(q_table)"
      ],
      "metadata": {
        "colab": {
          "base_uri": "https://localhost:8080/"
        },
        "id": "wBtWEjNc_GoZ",
        "outputId": "0bf68d6d-3d74-4c55-d239-0bd367ce8534"
      },
      "execution_count": null,
      "outputs": [
        {
          "output_type": "stream",
          "name": "stdout",
          "text": [
            "[[[0. 0. 0. 0.]\n",
            "  [0. 0. 0. 0.]\n",
            "  [0. 0. 0. 0.]]\n",
            "\n",
            " [[0. 0. 0. 0.]\n",
            "  [0. 0. 0. 0.]\n",
            "  [0. 0. 0. 0.]]]\n"
          ]
        }
      ]
    },
    {
      "cell_type": "code",
      "source": [
        "actions = ['up', 'right', 'down', 'left']"
      ],
      "metadata": {
        "id": "rwlauods_JtC"
      },
      "execution_count": null,
      "outputs": []
    },
    {
      "cell_type": "code",
      "source": [
        "def is_terminal_state(row_index, col_index):\n",
        "    if row_index == 1 and col_index ==2:\n",
        "        return True\n",
        "    else:\n",
        "        return False"
      ],
      "metadata": {
        "id": "N_8DySKP_n6d"
      },
      "execution_count": null,
      "outputs": []
    },
    {
      "cell_type": "code",
      "source": [
        "terminal=is_terminal_state(1,0)\n",
        "print(terminal)"
      ],
      "metadata": {
        "colab": {
          "base_uri": "https://localhost:8080/"
        },
        "id": "AatoBf0k_tzo",
        "outputId": "9a1affcb-9544-4f59-cd5e-07b0c193109b"
      },
      "execution_count": null,
      "outputs": [
        {
          "output_type": "stream",
          "name": "stdout",
          "text": [
            "False\n"
          ]
        }
      ]
    },
    {
      "cell_type": "code",
      "source": [
        "# randomly pick a location\n",
        "def get_start_loc():\n",
        "  cur_row_index=np.random.randint(grid_rows)\n",
        "  cur_col_index=np.random.randint(grid_cols)\n",
        "  while is_terminal_state(cur_row_index,cur_col_index):\n",
        "    cur_row_index=np.random.randint(grid_rows)\n",
        "    cur_col_index=np.random.randint(grid_cols)\n",
        "  return cur_row_index,cur_col_index"
      ],
      "metadata": {
        "id": "6SxVA3LACOWv"
      },
      "execution_count": null,
      "outputs": []
    },
    {
      "cell_type": "code",
      "source": [
        "def get_next_loc(cur_row_index,cur_col_index,action_index):\n",
        "  new_row_index=cur_row_index\n",
        "  new_col_index=cur_col_index\n",
        "\n",
        "  if actions[action_index]=='up' and cur_row_index>0:\n",
        "    new_row_index-=1\n",
        "  elif actions[action_index]=='down' and cur_row_index<grid_rows-1:\n",
        "    new_row_index+=1\n",
        "  elif actions[action_index]=='right' and cur_col_index<grid_cols-1:\n",
        "    new_col_index+=1\n",
        "  elif actions[action_index]=='left' and cur_col_index>0:\n",
        "    new_col_index-=1\n",
        "\n",
        "  return new_row_index,new_col_index"
      ],
      "metadata": {
        "id": "3DGhghugCULv"
      },
      "execution_count": null,
      "outputs": []
    },
    {
      "cell_type": "code",
      "source": [
        "\n",
        "def get_next_act(cur_row_index, cur_col_index, epsilon):\n",
        "    if np.random.random() < epsilon:\n",
        "        return np.random.randint(num_actions)\n",
        "    else:\n",
        "        return np.argmax(q_table[cur_row_index, cur_col_index])\n"
      ],
      "metadata": {
        "id": "fc66H0DNCk-Y"
      },
      "execution_count": null,
      "outputs": []
    },
    {
      "cell_type": "code",
      "source": [
        "def get_shortest_path(start_row, start_col):\n",
        "  if is_terminal_state(start_row, start_col):\n",
        "    return []\n",
        "  else:\n",
        "    cur_row_index,cur_col_index=start_row, start_col\n",
        "    shortest_path =[]\n",
        "    shortest_path.append([cur_row_index,cur_col_index])\n",
        "    while not is_terminal_state(cur_row_index, cur_col_index):\n",
        "      print(\"Current position:\", cur_row_index, cur_col_index)\n",
        "      action_index = get_next_act(cur_row_index, cur_col_index, 1.)\n",
        "      cur_row_index, cur_col_index = get_next_loc(cur_row_index, cur_col_index, action_index)\n",
        "      shortest_path.append([cur_row_index, cur_col_index])\n",
        "\n",
        "\n",
        "    return shortest_path"
      ],
      "metadata": {
        "id": "TeDr89FqCmdd"
      },
      "execution_count": null,
      "outputs": []
    },
    {
      "cell_type": "code",
      "source": [],
      "metadata": {
        "id": "1nXQRekQFtNd"
      },
      "execution_count": null,
      "outputs": []
    },
    {
      "cell_type": "code",
      "source": [
        "print(q_table)"
      ],
      "metadata": {
        "colab": {
          "base_uri": "https://localhost:8080/"
        },
        "id": "FNpu6T3kGJKF",
        "outputId": "4ebdbb97-c5e5-48b7-d235-95a8ed50f5bd"
      },
      "execution_count": null,
      "outputs": [
        {
          "output_type": "stream",
          "name": "stdout",
          "text": [
            "[[[0. 0. 0. 0.]\n",
            "  [0. 0. 0. 0.]\n",
            "  [0. 0. 0. 0.]]\n",
            "\n",
            " [[0. 0. 0. 0.]\n",
            "  [0. 0. 0. 0.]\n",
            "  [0. 0. 0. 0.]]]\n"
          ]
        }
      ]
    },
    {
      "cell_type": "code",
      "source": [
        "for episode in range(20000):\n",
        "    row_index, col_index = get_start_loc()\n",
        "\n",
        "    while not is_terminal_state(row_index, col_index):\n",
        "        action_index = get_next_act(row_index, col_index, epsilon)\n",
        "\n",
        "        old_row_index, old_col_index = row_index, col_index\n",
        "        row_index, col_index = get_next_loc(row_index, col_index, action_index)\n",
        "\n",
        "        reward = rewards[row_index,col_index]\n",
        "        old_q_value=q_table[row_index,col_index,action_index]\n",
        "        td = reward+  (gamma * np.max(q_table[row_index, col_index])) - old_q_value\n",
        "        new_q_value=old_q_value+(learningRate*td)\n",
        "        q_table[old_row_index, old_col_index ,action_index]=new_q_value\n",
        "print('training complete')"
      ],
      "metadata": {
        "colab": {
          "base_uri": "https://localhost:8080/"
        },
        "id": "oVL4pUTOFQnQ",
        "outputId": "d252ce30-af98-47c5-897b-921008becbdf"
      },
      "execution_count": null,
      "outputs": [
        {
          "output_type": "stream",
          "name": "stdout",
          "text": [
            "training complete\n"
          ]
        }
      ]
    },
    {
      "cell_type": "code",
      "source": [
        "print(q_table)"
      ],
      "metadata": {
        "colab": {
          "base_uri": "https://localhost:8080/"
        },
        "id": "EEJr2clAGFOb",
        "outputId": "6685a40f-e793-4632-c5b0-c780172d6908"
      },
      "execution_count": null,
      "outputs": [
        {
          "output_type": "stream",
          "name": "stdout",
          "text": [
            "[[[-8.371       1.81        0.71999259 -8.371     ]\n",
            "  [10.          0.9        -1.         -8.371     ]\n",
            "  [ 0.9         0.9         1.         -6.5339    ]]\n",
            "\n",
            " [[-8.371       0.8         0.71999259  0.71999983]\n",
            "  [10.          1.         -1.          0.71999985]\n",
            "  [ 0.          0.          0.          0.        ]]]\n"
          ]
        }
      ]
    },
    {
      "cell_type": "code",
      "source": [
        "moves_limit=4"
      ],
      "metadata": {
        "id": "BMJ7PE-QGrfD"
      },
      "execution_count": null,
      "outputs": []
    },
    {
      "cell_type": "code",
      "source": [
        "for episode in range(20000):\n",
        "    row_index, col_index = get_start_loc()\n",
        "    moves=0\n",
        "    while not is_terminal_state(row_index, col_index):\n",
        "        action_index = get_next_act(row_index, col_index, epsilon)\n",
        "\n",
        "        old_row_index, old_col_index = row_index, col_index\n",
        "        row_index, col_index = get_next_loc(row_index, col_index, action_index)\n",
        "\n",
        "        reward = rewards[row_index,col_index]\n",
        "        old_q_value=q_table[row_index,col_index,action_index]\n",
        "        td = reward+  (gamma * np.max(q_table[row_index, col_index])) - old_q_value\n",
        "        new_q_value=old_q_value+(learningRate*td)\n",
        "        q_table[old_row_index, old_col_index ,action_index]=new_q_value\n",
        "        if row_index == 1 and col_index == 2:\n",
        "          moves=0\n",
        "        else:\n",
        "          moves+=1\n",
        "        if moves>=moves_limit:\n",
        "          break\n",
        "print('training complete')"
      ],
      "metadata": {
        "colab": {
          "base_uri": "https://localhost:8080/"
        },
        "id": "RvjWUWCXGXM5",
        "outputId": "4145c173-0070-4b9f-f9df-92ee324a03dc"
      },
      "execution_count": null,
      "outputs": [
        {
          "output_type": "stream",
          "name": "stdout",
          "text": [
            "training complete\n"
          ]
        }
      ]
    },
    {
      "cell_type": "code",
      "source": [
        "print(q_table)"
      ],
      "metadata": {
        "colab": {
          "base_uri": "https://localhost:8080/"
        },
        "id": "F9xx8XLTH1FJ",
        "outputId": "838968ac-cde2-4a10-8ca7-b5296493b365"
      },
      "execution_count": null,
      "outputs": [
        {
          "output_type": "stream",
          "name": "stdout",
          "text": [
            "[[[-8.371   1.81    0.72   -8.371 ]\n",
            "  [10.      0.9    -1.     -8.371 ]\n",
            "  [ 0.9     0.9     1.     -6.5339]]\n",
            "\n",
            " [[-8.371   0.8     0.72    0.72  ]\n",
            "  [10.      1.     -1.      0.72  ]\n",
            "  [ 0.      0.      0.      0.    ]]]\n"
          ]
        }
      ]
    },
    {
      "cell_type": "code",
      "source": [
        "print(get_shortest_path(0,0))"
      ],
      "metadata": {
        "colab": {
          "base_uri": "https://localhost:8080/"
        },
        "id": "or-81XCIJQvz",
        "outputId": "4c59f17f-a8a8-48c5-f6a1-2110cdd07f3a"
      },
      "execution_count": null,
      "outputs": [
        {
          "output_type": "stream",
          "name": "stdout",
          "text": [
            "False\n",
            "Current position: 0 0\n",
            "3\n",
            "Current position: 0 0\n",
            "2\n",
            "Current position: 1 0\n",
            "3\n",
            "Current position: 1 0\n",
            "0\n",
            "Current position: 0 0\n",
            "3\n",
            "Current position: 0 0\n",
            "1\n",
            "Current position: 0 1\n",
            "1\n",
            "Current position: 0 2\n",
            "3\n",
            "Current position: 0 1\n",
            "2\n",
            "Current position: 1 1\n",
            "3\n",
            "Current position: 1 0\n",
            "3\n",
            "Current position: 1 0\n",
            "0\n",
            "Current position: 0 0\n",
            "0\n",
            "Current position: 0 0\n",
            "2\n",
            "Current position: 1 0\n",
            "2\n",
            "Current position: 1 0\n",
            "1\n",
            "Current position: 1 1\n",
            "3\n",
            "Current position: 1 0\n",
            "2\n",
            "Current position: 1 0\n",
            "2\n",
            "Current position: 1 0\n",
            "3\n",
            "Current position: 1 0\n",
            "3\n",
            "Current position: 1 0\n",
            "1\n",
            "Current position: 1 1\n",
            "3\n",
            "Current position: 1 0\n",
            "0\n",
            "Current position: 0 0\n",
            "0\n",
            "Current position: 0 0\n",
            "1\n",
            "Current position: 0 1\n",
            "1\n",
            "Current position: 0 2\n",
            "2\n",
            "[[0, 0], [0, 0], [1, 0], [1, 0], [0, 0], [0, 0], [0, 1], [0, 2], [0, 1], [1, 1], [1, 0], [1, 0], [0, 0], [0, 0], [1, 0], [1, 0], [1, 1], [1, 0], [1, 0], [1, 0], [1, 0], [1, 0], [1, 1], [1, 0], [0, 0], [0, 0], [0, 1], [0, 2], [1, 2]]\n"
          ]
        }
      ]
    },
    {
      "cell_type": "code",
      "source": [],
      "metadata": {
        "colab": {
          "base_uri": "https://localhost:8080/",
          "height": 166
        },
        "id": "k6EQAIRFLXI-",
        "outputId": "22b98cf6-a82b-48e9-a97d-3268c05ac826"
      },
      "execution_count": null,
      "outputs": [
        {
          "output_type": "error",
          "ename": "NameError",
          "evalue": "ignored",
          "traceback": [
            "\u001b[0;31m---------------------------------------------------------------------------\u001b[0m",
            "\u001b[0;31mNameError\u001b[0m                                 Traceback (most recent call last)",
            "\u001b[0;32m<ipython-input-21-ce3af7760f12>\u001b[0m in \u001b[0;36m<cell line: 1>\u001b[0;34m()\u001b[0m\n\u001b[0;32m----> 1\u001b[0;31m \u001b[0mxx\u001b[0m\u001b[0;34m\u001b[0m\u001b[0;34m\u001b[0m\u001b[0m\n\u001b[0m",
            "\u001b[0;31mNameError\u001b[0m: name 'xx' is not defined"
          ]
        }
      ]
    }
  ]
}